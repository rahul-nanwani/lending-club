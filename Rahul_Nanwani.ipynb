{
  "cells": [
    {
      "cell_type": "markdown",
      "metadata": {
        "id": "KBgcAzoC_x8H"
      },
      "source": [
        "# Lending Club - Case Study\n",
        "\n",
        "EDA to understand how consumer attributes and loan attributes influence the tendency to default"
      ]
    },
    {
      "cell_type": "markdown",
      "metadata": {
        "id": "rBE8aqR2_x8P"
      },
      "source": [
        "Steps we are going to follow for EDA:\n",
        "1. Understand the dataset \n",
        "2. Clean and filter the data \n",
        "3. Data analysis \n",
        "4. Draw conclusions"
      ]
    },
    {
      "cell_type": "markdown",
      "metadata": {
        "id": "2svrJ3hd_x8S"
      },
      "source": [
        "| Dataset | Description | \n",
        "| --- | --- | \n",
        "| [Loan Data Set](https://cdn.upgrad.com/UpGrad/temp/3ba74fb7-bd88-4854-8597-1c225a5aed99/loan.zip) | This contains the complete loan data for all loans issued through the time period 2007-2011. | \n",
        "| [Data Dictionary](https://cdn.upgrad.com/UpGrad/temp/af860da6-f838-47d6-ad97-551022550ee4/Data_Dictionary.xlsx) | This dataset describes the meaning of the variables mentioned in the Loan Data Set. | "
      ]
    },
    {
      "cell_type": "markdown",
      "metadata": {
        "id": "k0Pap8Gs_x8T"
      },
      "source": [
        "## Step 0: Pre-requisites"
      ]
    },
    {
      "cell_type": "markdown",
      "metadata": {
        "id": "DMVePOFX_x8U"
      },
      "source": [
        "Importing all the required libraries for our EDA"
      ]
    },
    {
      "cell_type": "code",
      "execution_count": 1,
      "metadata": {
        "id": "LFBTjdi1_x8V"
      },
      "outputs": [],
      "source": [
        "# Built-in libraries\n",
        "import os\n",
        "import re\n",
        "import ssl\n",
        "from datetime import datetime as dt\n",
        "from io import BytesIO, StringIO\n",
        "from urllib.request import urlopen\n",
        "from zipfile import ZipFile\n",
        "\n",
        "# Third-party libraries\n",
        "import matplotlib.pyplot as plt\n",
        "import numpy as np\n",
        "import pandas as pd\n",
        "import seaborn as sns"
      ]
    },
    {
      "cell_type": "markdown",
      "metadata": {
        "id": "UAUzRphQ_x8W"
      },
      "source": [
        "Code to handle SSL configuration"
      ]
    },
    {
      "cell_type": "code",
      "execution_count": 2,
      "metadata": {
        "id": "v4sRGobY_x8X"
      },
      "outputs": [],
      "source": [
        "if not os.environ.get('PYTHONHTTPSVERIFY', '') and getattr(ssl, '_create_unverified_context', None):\n",
        "    ssl._create_default_https_context = ssl._create_unverified_context"
      ]
    },
    {
      "cell_type": "markdown",
      "metadata": {
        "id": "eb2CBpKZ_x8X"
      },
      "source": [
        "Get the contents of the provided zip file URL for the loan dataset in a dictionary"
      ]
    },
    {
      "cell_type": "code",
      "execution_count": 3,
      "metadata": {
        "id": "u9VCUUHi_x8Y"
      },
      "outputs": [],
      "source": [
        "# loan_data_set_url = r'https://cdn.upgrad.com/UpGrad/temp/3ba74fb7-bd88-4854-8597-1c225a5aed99/loan.zip'\n",
        "loan_data_set_url = r'https://raw.githubusercontent.com/rahul-nanwani/lending-club/master/datasets/loan.zip'\n",
        "loan_data_set = {}\n",
        "with urlopen(loan_data_set_url) as resp:\n",
        "    with ZipFile(BytesIO(resp.read()), 'r') as zf:\n",
        "        for filename in zf.namelist():\n",
        "            loan_data_set[filename] = zf.open(filename).read().decode('utf-8')"
      ]
    },
    {
      "cell_type": "markdown",
      "metadata": {
        "id": "TUhigw59_x8Z"
      },
      "source": [
        "Check the files found from the zip file"
      ]
    },
    {
      "cell_type": "code",
      "execution_count": 4,
      "metadata": {
        "id": "Q67wDVo4_x8a",
        "outputId": "d5be8acc-c668-4354-8566-a0000a89cbf4",
        "colab": {
          "base_uri": "https://localhost:8080/"
        }
      },
      "outputs": [
        {
          "output_type": "execute_result",
          "data": {
            "text/plain": [
              "['loan.csv']"
            ]
          },
          "metadata": {},
          "execution_count": 4
        }
      ],
      "source": [
        "list(loan_data_set.keys())"
      ]
    },
    {
      "cell_type": "markdown",
      "metadata": {
        "id": "YAZJdGeg_x8b"
      },
      "source": [
        "Use the `loan.csv` file to create a dataframe"
      ]
    },
    {
      "cell_type": "code",
      "execution_count": 5,
      "metadata": {
        "id": "gPaCSvRm_x8b",
        "outputId": "d03e3adb-0065-46c4-b86b-69e0336ebd2f",
        "colab": {
          "base_uri": "https://localhost:8080/"
        }
      },
      "outputs": [
        {
          "output_type": "stream",
          "name": "stderr",
          "text": [
            "/usr/local/lib/python3.8/dist-packages/IPython/core/interactiveshell.py:3326: DtypeWarning: Columns (47) have mixed types.Specify dtype option on import or set low_memory=False.\n",
            "  exec(code_obj, self.user_global_ns, self.user_ns)\n"
          ]
        }
      ],
      "source": [
        "loan_data_set = StringIO(loan_data_set['loan.csv'])\n",
        "df = pd.read_csv(loan_data_set)"
      ]
    },
    {
      "cell_type": "markdown",
      "metadata": {
        "id": "pzjj-hl8_x8c"
      },
      "source": [
        "## Step 1: Understand the dataset "
      ]
    },
    {
      "cell_type": "markdown",
      "metadata": {
        "id": "eU-R2Qxo_x8d"
      },
      "source": [
        "It is important to know the count of the rows and columns of the dataset we are using for our EDA "
      ]
    },
    {
      "cell_type": "code",
      "execution_count": 6,
      "metadata": {
        "id": "mayDeiv7_x8d",
        "outputId": "efe04cdb-ad89-4683-c25b-fc007bacb53d",
        "colab": {
          "base_uri": "https://localhost:8080/"
        }
      },
      "outputs": [
        {
          "output_type": "execute_result",
          "data": {
            "text/plain": [
              "(39717, 111)"
            ]
          },
          "metadata": {},
          "execution_count": 6
        }
      ],
      "source": [
        "df.shape"
      ]
    },
    {
      "cell_type": "markdown",
      "metadata": {
        "id": "ymBsla2m_x8e"
      },
      "source": [
        "It is also important to know how the rows look like "
      ]
    },
    {
      "cell_type": "code",
      "execution_count": 7,
      "metadata": {
        "id": "z83teb-k_x8f",
        "outputId": "c34355ce-8499-4f42-9a02-e3ff8b01d71f",
        "colab": {
          "base_uri": "https://localhost:8080/",
          "height": 382
        }
      },
      "outputs": [
        {
          "output_type": "execute_result",
          "data": {
            "text/plain": [
              "        id  member_id  loan_amnt  funded_amnt  funded_amnt_inv        term  \\\n",
              "0  1077501    1296599       5000         5000           4975.0   36 months   \n",
              "1  1077430    1314167       2500         2500           2500.0   60 months   \n",
              "2  1077175    1313524       2400         2400           2400.0   36 months   \n",
              "3  1076863    1277178      10000        10000          10000.0   36 months   \n",
              "4  1075358    1311748       3000         3000           3000.0   60 months   \n",
              "\n",
              "  int_rate  installment grade sub_grade  ... num_tl_90g_dpd_24m  \\\n",
              "0   10.65%       162.87     B        B2  ...                NaN   \n",
              "1   15.27%        59.83     C        C4  ...                NaN   \n",
              "2   15.96%        84.33     C        C5  ...                NaN   \n",
              "3   13.49%       339.31     C        C1  ...                NaN   \n",
              "4   12.69%        67.79     B        B5  ...                NaN   \n",
              "\n",
              "  num_tl_op_past_12m pct_tl_nvr_dlq  percent_bc_gt_75 pub_rec_bankruptcies  \\\n",
              "0                NaN            NaN               NaN                  0.0   \n",
              "1                NaN            NaN               NaN                  0.0   \n",
              "2                NaN            NaN               NaN                  0.0   \n",
              "3                NaN            NaN               NaN                  0.0   \n",
              "4                NaN            NaN               NaN                  0.0   \n",
              "\n",
              "  tax_liens tot_hi_cred_lim total_bal_ex_mort total_bc_limit  \\\n",
              "0       0.0             NaN               NaN            NaN   \n",
              "1       0.0             NaN               NaN            NaN   \n",
              "2       0.0             NaN               NaN            NaN   \n",
              "3       0.0             NaN               NaN            NaN   \n",
              "4       0.0             NaN               NaN            NaN   \n",
              "\n",
              "  total_il_high_credit_limit  \n",
              "0                        NaN  \n",
              "1                        NaN  \n",
              "2                        NaN  \n",
              "3                        NaN  \n",
              "4                        NaN  \n",
              "\n",
              "[5 rows x 111 columns]"
            ],
            "text/html": [
              "\n",
              "  <div id=\"df-5cd3f1fd-dd68-483b-8645-e61928284669\">\n",
              "    <div class=\"colab-df-container\">\n",
              "      <div>\n",
              "<style scoped>\n",
              "    .dataframe tbody tr th:only-of-type {\n",
              "        vertical-align: middle;\n",
              "    }\n",
              "\n",
              "    .dataframe tbody tr th {\n",
              "        vertical-align: top;\n",
              "    }\n",
              "\n",
              "    .dataframe thead th {\n",
              "        text-align: right;\n",
              "    }\n",
              "</style>\n",
              "<table border=\"1\" class=\"dataframe\">\n",
              "  <thead>\n",
              "    <tr style=\"text-align: right;\">\n",
              "      <th></th>\n",
              "      <th>id</th>\n",
              "      <th>member_id</th>\n",
              "      <th>loan_amnt</th>\n",
              "      <th>funded_amnt</th>\n",
              "      <th>funded_amnt_inv</th>\n",
              "      <th>term</th>\n",
              "      <th>int_rate</th>\n",
              "      <th>installment</th>\n",
              "      <th>grade</th>\n",
              "      <th>sub_grade</th>\n",
              "      <th>...</th>\n",
              "      <th>num_tl_90g_dpd_24m</th>\n",
              "      <th>num_tl_op_past_12m</th>\n",
              "      <th>pct_tl_nvr_dlq</th>\n",
              "      <th>percent_bc_gt_75</th>\n",
              "      <th>pub_rec_bankruptcies</th>\n",
              "      <th>tax_liens</th>\n",
              "      <th>tot_hi_cred_lim</th>\n",
              "      <th>total_bal_ex_mort</th>\n",
              "      <th>total_bc_limit</th>\n",
              "      <th>total_il_high_credit_limit</th>\n",
              "    </tr>\n",
              "  </thead>\n",
              "  <tbody>\n",
              "    <tr>\n",
              "      <th>0</th>\n",
              "      <td>1077501</td>\n",
              "      <td>1296599</td>\n",
              "      <td>5000</td>\n",
              "      <td>5000</td>\n",
              "      <td>4975.0</td>\n",
              "      <td>36 months</td>\n",
              "      <td>10.65%</td>\n",
              "      <td>162.87</td>\n",
              "      <td>B</td>\n",
              "      <td>B2</td>\n",
              "      <td>...</td>\n",
              "      <td>NaN</td>\n",
              "      <td>NaN</td>\n",
              "      <td>NaN</td>\n",
              "      <td>NaN</td>\n",
              "      <td>0.0</td>\n",
              "      <td>0.0</td>\n",
              "      <td>NaN</td>\n",
              "      <td>NaN</td>\n",
              "      <td>NaN</td>\n",
              "      <td>NaN</td>\n",
              "    </tr>\n",
              "    <tr>\n",
              "      <th>1</th>\n",
              "      <td>1077430</td>\n",
              "      <td>1314167</td>\n",
              "      <td>2500</td>\n",
              "      <td>2500</td>\n",
              "      <td>2500.0</td>\n",
              "      <td>60 months</td>\n",
              "      <td>15.27%</td>\n",
              "      <td>59.83</td>\n",
              "      <td>C</td>\n",
              "      <td>C4</td>\n",
              "      <td>...</td>\n",
              "      <td>NaN</td>\n",
              "      <td>NaN</td>\n",
              "      <td>NaN</td>\n",
              "      <td>NaN</td>\n",
              "      <td>0.0</td>\n",
              "      <td>0.0</td>\n",
              "      <td>NaN</td>\n",
              "      <td>NaN</td>\n",
              "      <td>NaN</td>\n",
              "      <td>NaN</td>\n",
              "    </tr>\n",
              "    <tr>\n",
              "      <th>2</th>\n",
              "      <td>1077175</td>\n",
              "      <td>1313524</td>\n",
              "      <td>2400</td>\n",
              "      <td>2400</td>\n",
              "      <td>2400.0</td>\n",
              "      <td>36 months</td>\n",
              "      <td>15.96%</td>\n",
              "      <td>84.33</td>\n",
              "      <td>C</td>\n",
              "      <td>C5</td>\n",
              "      <td>...</td>\n",
              "      <td>NaN</td>\n",
              "      <td>NaN</td>\n",
              "      <td>NaN</td>\n",
              "      <td>NaN</td>\n",
              "      <td>0.0</td>\n",
              "      <td>0.0</td>\n",
              "      <td>NaN</td>\n",
              "      <td>NaN</td>\n",
              "      <td>NaN</td>\n",
              "      <td>NaN</td>\n",
              "    </tr>\n",
              "    <tr>\n",
              "      <th>3</th>\n",
              "      <td>1076863</td>\n",
              "      <td>1277178</td>\n",
              "      <td>10000</td>\n",
              "      <td>10000</td>\n",
              "      <td>10000.0</td>\n",
              "      <td>36 months</td>\n",
              "      <td>13.49%</td>\n",
              "      <td>339.31</td>\n",
              "      <td>C</td>\n",
              "      <td>C1</td>\n",
              "      <td>...</td>\n",
              "      <td>NaN</td>\n",
              "      <td>NaN</td>\n",
              "      <td>NaN</td>\n",
              "      <td>NaN</td>\n",
              "      <td>0.0</td>\n",
              "      <td>0.0</td>\n",
              "      <td>NaN</td>\n",
              "      <td>NaN</td>\n",
              "      <td>NaN</td>\n",
              "      <td>NaN</td>\n",
              "    </tr>\n",
              "    <tr>\n",
              "      <th>4</th>\n",
              "      <td>1075358</td>\n",
              "      <td>1311748</td>\n",
              "      <td>3000</td>\n",
              "      <td>3000</td>\n",
              "      <td>3000.0</td>\n",
              "      <td>60 months</td>\n",
              "      <td>12.69%</td>\n",
              "      <td>67.79</td>\n",
              "      <td>B</td>\n",
              "      <td>B5</td>\n",
              "      <td>...</td>\n",
              "      <td>NaN</td>\n",
              "      <td>NaN</td>\n",
              "      <td>NaN</td>\n",
              "      <td>NaN</td>\n",
              "      <td>0.0</td>\n",
              "      <td>0.0</td>\n",
              "      <td>NaN</td>\n",
              "      <td>NaN</td>\n",
              "      <td>NaN</td>\n",
              "      <td>NaN</td>\n",
              "    </tr>\n",
              "  </tbody>\n",
              "</table>\n",
              "<p>5 rows × 111 columns</p>\n",
              "</div>\n",
              "      <button class=\"colab-df-convert\" onclick=\"convertToInteractive('df-5cd3f1fd-dd68-483b-8645-e61928284669')\"\n",
              "              title=\"Convert this dataframe to an interactive table.\"\n",
              "              style=\"display:none;\">\n",
              "        \n",
              "  <svg xmlns=\"http://www.w3.org/2000/svg\" height=\"24px\"viewBox=\"0 0 24 24\"\n",
              "       width=\"24px\">\n",
              "    <path d=\"M0 0h24v24H0V0z\" fill=\"none\"/>\n",
              "    <path d=\"M18.56 5.44l.94 2.06.94-2.06 2.06-.94-2.06-.94-.94-2.06-.94 2.06-2.06.94zm-11 1L8.5 8.5l.94-2.06 2.06-.94-2.06-.94L8.5 2.5l-.94 2.06-2.06.94zm10 10l.94 2.06.94-2.06 2.06-.94-2.06-.94-.94-2.06-.94 2.06-2.06.94z\"/><path d=\"M17.41 7.96l-1.37-1.37c-.4-.4-.92-.59-1.43-.59-.52 0-1.04.2-1.43.59L10.3 9.45l-7.72 7.72c-.78.78-.78 2.05 0 2.83L4 21.41c.39.39.9.59 1.41.59.51 0 1.02-.2 1.41-.59l7.78-7.78 2.81-2.81c.8-.78.8-2.07 0-2.86zM5.41 20L4 18.59l7.72-7.72 1.47 1.35L5.41 20z\"/>\n",
              "  </svg>\n",
              "      </button>\n",
              "      \n",
              "  <style>\n",
              "    .colab-df-container {\n",
              "      display:flex;\n",
              "      flex-wrap:wrap;\n",
              "      gap: 12px;\n",
              "    }\n",
              "\n",
              "    .colab-df-convert {\n",
              "      background-color: #E8F0FE;\n",
              "      border: none;\n",
              "      border-radius: 50%;\n",
              "      cursor: pointer;\n",
              "      display: none;\n",
              "      fill: #1967D2;\n",
              "      height: 32px;\n",
              "      padding: 0 0 0 0;\n",
              "      width: 32px;\n",
              "    }\n",
              "\n",
              "    .colab-df-convert:hover {\n",
              "      background-color: #E2EBFA;\n",
              "      box-shadow: 0px 1px 2px rgba(60, 64, 67, 0.3), 0px 1px 3px 1px rgba(60, 64, 67, 0.15);\n",
              "      fill: #174EA6;\n",
              "    }\n",
              "\n",
              "    [theme=dark] .colab-df-convert {\n",
              "      background-color: #3B4455;\n",
              "      fill: #D2E3FC;\n",
              "    }\n",
              "\n",
              "    [theme=dark] .colab-df-convert:hover {\n",
              "      background-color: #434B5C;\n",
              "      box-shadow: 0px 1px 3px 1px rgba(0, 0, 0, 0.15);\n",
              "      filter: drop-shadow(0px 1px 2px rgba(0, 0, 0, 0.3));\n",
              "      fill: #FFFFFF;\n",
              "    }\n",
              "  </style>\n",
              "\n",
              "      <script>\n",
              "        const buttonEl =\n",
              "          document.querySelector('#df-5cd3f1fd-dd68-483b-8645-e61928284669 button.colab-df-convert');\n",
              "        buttonEl.style.display =\n",
              "          google.colab.kernel.accessAllowed ? 'block' : 'none';\n",
              "\n",
              "        async function convertToInteractive(key) {\n",
              "          const element = document.querySelector('#df-5cd3f1fd-dd68-483b-8645-e61928284669');\n",
              "          const dataTable =\n",
              "            await google.colab.kernel.invokeFunction('convertToInteractive',\n",
              "                                                     [key], {});\n",
              "          if (!dataTable) return;\n",
              "\n",
              "          const docLinkHtml = 'Like what you see? Visit the ' +\n",
              "            '<a target=\"_blank\" href=https://colab.research.google.com/notebooks/data_table.ipynb>data table notebook</a>'\n",
              "            + ' to learn more about interactive tables.';\n",
              "          element.innerHTML = '';\n",
              "          dataTable['output_type'] = 'display_data';\n",
              "          await google.colab.output.renderOutput(dataTable, element);\n",
              "          const docLink = document.createElement('div');\n",
              "          docLink.innerHTML = docLinkHtml;\n",
              "          element.appendChild(docLink);\n",
              "        }\n",
              "      </script>\n",
              "    </div>\n",
              "  </div>\n",
              "  "
            ]
          },
          "metadata": {},
          "execution_count": 7
        }
      ],
      "source": [
        "df.head()"
      ]
    },
    {
      "cell_type": "code",
      "execution_count": 8,
      "metadata": {
        "id": "6NeyAqRW_x8f",
        "outputId": "4df87b4c-41c3-4834-eedd-1c0a3fc19bc7",
        "colab": {
          "base_uri": "https://localhost:8080/",
          "height": 382
        }
      },
      "outputs": [
        {
          "output_type": "execute_result",
          "data": {
            "text/plain": [
              "          id  member_id  loan_amnt  funded_amnt  funded_amnt_inv        term  \\\n",
              "39712  92187      92174       2500         2500           1075.0   36 months   \n",
              "39713  90665      90607       8500         8500            875.0   36 months   \n",
              "39714  90395      90390       5000         5000           1325.0   36 months   \n",
              "39715  90376      89243       5000         5000            650.0   36 months   \n",
              "39716  87023      86999       7500         7500            800.0   36 months   \n",
              "\n",
              "      int_rate  installment grade sub_grade  ... num_tl_90g_dpd_24m  \\\n",
              "39712    8.07%        78.42     A        A4  ...                NaN   \n",
              "39713   10.28%       275.38     C        C1  ...                NaN   \n",
              "39714    8.07%       156.84     A        A4  ...                NaN   \n",
              "39715    7.43%       155.38     A        A2  ...                NaN   \n",
              "39716   13.75%       255.43     E        E2  ...                NaN   \n",
              "\n",
              "      num_tl_op_past_12m pct_tl_nvr_dlq  percent_bc_gt_75  \\\n",
              "39712                NaN            NaN               NaN   \n",
              "39713                NaN            NaN               NaN   \n",
              "39714                NaN            NaN               NaN   \n",
              "39715                NaN            NaN               NaN   \n",
              "39716                NaN            NaN               NaN   \n",
              "\n",
              "      pub_rec_bankruptcies tax_liens tot_hi_cred_lim total_bal_ex_mort  \\\n",
              "39712                  NaN       NaN             NaN               NaN   \n",
              "39713                  NaN       NaN             NaN               NaN   \n",
              "39714                  NaN       NaN             NaN               NaN   \n",
              "39715                  NaN       NaN             NaN               NaN   \n",
              "39716                  NaN       NaN             NaN               NaN   \n",
              "\n",
              "      total_bc_limit total_il_high_credit_limit  \n",
              "39712            NaN                        NaN  \n",
              "39713            NaN                        NaN  \n",
              "39714            NaN                        NaN  \n",
              "39715            NaN                        NaN  \n",
              "39716            NaN                        NaN  \n",
              "\n",
              "[5 rows x 111 columns]"
            ],
            "text/html": [
              "\n",
              "  <div id=\"df-873b65e0-c13e-4632-a079-909badec0b21\">\n",
              "    <div class=\"colab-df-container\">\n",
              "      <div>\n",
              "<style scoped>\n",
              "    .dataframe tbody tr th:only-of-type {\n",
              "        vertical-align: middle;\n",
              "    }\n",
              "\n",
              "    .dataframe tbody tr th {\n",
              "        vertical-align: top;\n",
              "    }\n",
              "\n",
              "    .dataframe thead th {\n",
              "        text-align: right;\n",
              "    }\n",
              "</style>\n",
              "<table border=\"1\" class=\"dataframe\">\n",
              "  <thead>\n",
              "    <tr style=\"text-align: right;\">\n",
              "      <th></th>\n",
              "      <th>id</th>\n",
              "      <th>member_id</th>\n",
              "      <th>loan_amnt</th>\n",
              "      <th>funded_amnt</th>\n",
              "      <th>funded_amnt_inv</th>\n",
              "      <th>term</th>\n",
              "      <th>int_rate</th>\n",
              "      <th>installment</th>\n",
              "      <th>grade</th>\n",
              "      <th>sub_grade</th>\n",
              "      <th>...</th>\n",
              "      <th>num_tl_90g_dpd_24m</th>\n",
              "      <th>num_tl_op_past_12m</th>\n",
              "      <th>pct_tl_nvr_dlq</th>\n",
              "      <th>percent_bc_gt_75</th>\n",
              "      <th>pub_rec_bankruptcies</th>\n",
              "      <th>tax_liens</th>\n",
              "      <th>tot_hi_cred_lim</th>\n",
              "      <th>total_bal_ex_mort</th>\n",
              "      <th>total_bc_limit</th>\n",
              "      <th>total_il_high_credit_limit</th>\n",
              "    </tr>\n",
              "  </thead>\n",
              "  <tbody>\n",
              "    <tr>\n",
              "      <th>39712</th>\n",
              "      <td>92187</td>\n",
              "      <td>92174</td>\n",
              "      <td>2500</td>\n",
              "      <td>2500</td>\n",
              "      <td>1075.0</td>\n",
              "      <td>36 months</td>\n",
              "      <td>8.07%</td>\n",
              "      <td>78.42</td>\n",
              "      <td>A</td>\n",
              "      <td>A4</td>\n",
              "      <td>...</td>\n",
              "      <td>NaN</td>\n",
              "      <td>NaN</td>\n",
              "      <td>NaN</td>\n",
              "      <td>NaN</td>\n",
              "      <td>NaN</td>\n",
              "      <td>NaN</td>\n",
              "      <td>NaN</td>\n",
              "      <td>NaN</td>\n",
              "      <td>NaN</td>\n",
              "      <td>NaN</td>\n",
              "    </tr>\n",
              "    <tr>\n",
              "      <th>39713</th>\n",
              "      <td>90665</td>\n",
              "      <td>90607</td>\n",
              "      <td>8500</td>\n",
              "      <td>8500</td>\n",
              "      <td>875.0</td>\n",
              "      <td>36 months</td>\n",
              "      <td>10.28%</td>\n",
              "      <td>275.38</td>\n",
              "      <td>C</td>\n",
              "      <td>C1</td>\n",
              "      <td>...</td>\n",
              "      <td>NaN</td>\n",
              "      <td>NaN</td>\n",
              "      <td>NaN</td>\n",
              "      <td>NaN</td>\n",
              "      <td>NaN</td>\n",
              "      <td>NaN</td>\n",
              "      <td>NaN</td>\n",
              "      <td>NaN</td>\n",
              "      <td>NaN</td>\n",
              "      <td>NaN</td>\n",
              "    </tr>\n",
              "    <tr>\n",
              "      <th>39714</th>\n",
              "      <td>90395</td>\n",
              "      <td>90390</td>\n",
              "      <td>5000</td>\n",
              "      <td>5000</td>\n",
              "      <td>1325.0</td>\n",
              "      <td>36 months</td>\n",
              "      <td>8.07%</td>\n",
              "      <td>156.84</td>\n",
              "      <td>A</td>\n",
              "      <td>A4</td>\n",
              "      <td>...</td>\n",
              "      <td>NaN</td>\n",
              "      <td>NaN</td>\n",
              "      <td>NaN</td>\n",
              "      <td>NaN</td>\n",
              "      <td>NaN</td>\n",
              "      <td>NaN</td>\n",
              "      <td>NaN</td>\n",
              "      <td>NaN</td>\n",
              "      <td>NaN</td>\n",
              "      <td>NaN</td>\n",
              "    </tr>\n",
              "    <tr>\n",
              "      <th>39715</th>\n",
              "      <td>90376</td>\n",
              "      <td>89243</td>\n",
              "      <td>5000</td>\n",
              "      <td>5000</td>\n",
              "      <td>650.0</td>\n",
              "      <td>36 months</td>\n",
              "      <td>7.43%</td>\n",
              "      <td>155.38</td>\n",
              "      <td>A</td>\n",
              "      <td>A2</td>\n",
              "      <td>...</td>\n",
              "      <td>NaN</td>\n",
              "      <td>NaN</td>\n",
              "      <td>NaN</td>\n",
              "      <td>NaN</td>\n",
              "      <td>NaN</td>\n",
              "      <td>NaN</td>\n",
              "      <td>NaN</td>\n",
              "      <td>NaN</td>\n",
              "      <td>NaN</td>\n",
              "      <td>NaN</td>\n",
              "    </tr>\n",
              "    <tr>\n",
              "      <th>39716</th>\n",
              "      <td>87023</td>\n",
              "      <td>86999</td>\n",
              "      <td>7500</td>\n",
              "      <td>7500</td>\n",
              "      <td>800.0</td>\n",
              "      <td>36 months</td>\n",
              "      <td>13.75%</td>\n",
              "      <td>255.43</td>\n",
              "      <td>E</td>\n",
              "      <td>E2</td>\n",
              "      <td>...</td>\n",
              "      <td>NaN</td>\n",
              "      <td>NaN</td>\n",
              "      <td>NaN</td>\n",
              "      <td>NaN</td>\n",
              "      <td>NaN</td>\n",
              "      <td>NaN</td>\n",
              "      <td>NaN</td>\n",
              "      <td>NaN</td>\n",
              "      <td>NaN</td>\n",
              "      <td>NaN</td>\n",
              "    </tr>\n",
              "  </tbody>\n",
              "</table>\n",
              "<p>5 rows × 111 columns</p>\n",
              "</div>\n",
              "      <button class=\"colab-df-convert\" onclick=\"convertToInteractive('df-873b65e0-c13e-4632-a079-909badec0b21')\"\n",
              "              title=\"Convert this dataframe to an interactive table.\"\n",
              "              style=\"display:none;\">\n",
              "        \n",
              "  <svg xmlns=\"http://www.w3.org/2000/svg\" height=\"24px\"viewBox=\"0 0 24 24\"\n",
              "       width=\"24px\">\n",
              "    <path d=\"M0 0h24v24H0V0z\" fill=\"none\"/>\n",
              "    <path d=\"M18.56 5.44l.94 2.06.94-2.06 2.06-.94-2.06-.94-.94-2.06-.94 2.06-2.06.94zm-11 1L8.5 8.5l.94-2.06 2.06-.94-2.06-.94L8.5 2.5l-.94 2.06-2.06.94zm10 10l.94 2.06.94-2.06 2.06-.94-2.06-.94-.94-2.06-.94 2.06-2.06.94z\"/><path d=\"M17.41 7.96l-1.37-1.37c-.4-.4-.92-.59-1.43-.59-.52 0-1.04.2-1.43.59L10.3 9.45l-7.72 7.72c-.78.78-.78 2.05 0 2.83L4 21.41c.39.39.9.59 1.41.59.51 0 1.02-.2 1.41-.59l7.78-7.78 2.81-2.81c.8-.78.8-2.07 0-2.86zM5.41 20L4 18.59l7.72-7.72 1.47 1.35L5.41 20z\"/>\n",
              "  </svg>\n",
              "      </button>\n",
              "      \n",
              "  <style>\n",
              "    .colab-df-container {\n",
              "      display:flex;\n",
              "      flex-wrap:wrap;\n",
              "      gap: 12px;\n",
              "    }\n",
              "\n",
              "    .colab-df-convert {\n",
              "      background-color: #E8F0FE;\n",
              "      border: none;\n",
              "      border-radius: 50%;\n",
              "      cursor: pointer;\n",
              "      display: none;\n",
              "      fill: #1967D2;\n",
              "      height: 32px;\n",
              "      padding: 0 0 0 0;\n",
              "      width: 32px;\n",
              "    }\n",
              "\n",
              "    .colab-df-convert:hover {\n",
              "      background-color: #E2EBFA;\n",
              "      box-shadow: 0px 1px 2px rgba(60, 64, 67, 0.3), 0px 1px 3px 1px rgba(60, 64, 67, 0.15);\n",
              "      fill: #174EA6;\n",
              "    }\n",
              "\n",
              "    [theme=dark] .colab-df-convert {\n",
              "      background-color: #3B4455;\n",
              "      fill: #D2E3FC;\n",
              "    }\n",
              "\n",
              "    [theme=dark] .colab-df-convert:hover {\n",
              "      background-color: #434B5C;\n",
              "      box-shadow: 0px 1px 3px 1px rgba(0, 0, 0, 0.15);\n",
              "      filter: drop-shadow(0px 1px 2px rgba(0, 0, 0, 0.3));\n",
              "      fill: #FFFFFF;\n",
              "    }\n",
              "  </style>\n",
              "\n",
              "      <script>\n",
              "        const buttonEl =\n",
              "          document.querySelector('#df-873b65e0-c13e-4632-a079-909badec0b21 button.colab-df-convert');\n",
              "        buttonEl.style.display =\n",
              "          google.colab.kernel.accessAllowed ? 'block' : 'none';\n",
              "\n",
              "        async function convertToInteractive(key) {\n",
              "          const element = document.querySelector('#df-873b65e0-c13e-4632-a079-909badec0b21');\n",
              "          const dataTable =\n",
              "            await google.colab.kernel.invokeFunction('convertToInteractive',\n",
              "                                                     [key], {});\n",
              "          if (!dataTable) return;\n",
              "\n",
              "          const docLinkHtml = 'Like what you see? Visit the ' +\n",
              "            '<a target=\"_blank\" href=https://colab.research.google.com/notebooks/data_table.ipynb>data table notebook</a>'\n",
              "            + ' to learn more about interactive tables.';\n",
              "          element.innerHTML = '';\n",
              "          dataTable['output_type'] = 'display_data';\n",
              "          await google.colab.output.renderOutput(dataTable, element);\n",
              "          const docLink = document.createElement('div');\n",
              "          docLink.innerHTML = docLinkHtml;\n",
              "          element.appendChild(docLink);\n",
              "        }\n",
              "      </script>\n",
              "    </div>\n",
              "  </div>\n",
              "  "
            ]
          },
          "metadata": {},
          "execution_count": 8
        }
      ],
      "source": [
        "df.tail()"
      ]
    },
    {
      "cell_type": "code",
      "source": [
        "df.info()"
      ],
      "metadata": {
        "colab": {
          "base_uri": "https://localhost:8080/"
        },
        "id": "g3IwExGTiGce",
        "outputId": "e83b7ebf-bca5-4c54-fa0f-05dea188ff46"
      },
      "execution_count": 9,
      "outputs": [
        {
          "output_type": "stream",
          "name": "stdout",
          "text": [
            "<class 'pandas.core.frame.DataFrame'>\n",
            "RangeIndex: 39717 entries, 0 to 39716\n",
            "Columns: 111 entries, id to total_il_high_credit_limit\n",
            "dtypes: float64(74), int64(13), object(24)\n",
            "memory usage: 33.6+ MB\n"
          ]
        }
      ]
    },
    {
      "cell_type": "markdown",
      "metadata": {
        "id": "eV3sP8Io_x8g"
      },
      "source": [
        "Now we glance through the [Data Dictionary](https://cdn.upgrad.com/UpGrad/temp/af860da6-f838-47d6-ad97-551022550ee4/Data_Dictionary.xlsx) provided for the loan dataset."
      ]
    },
    {
      "cell_type": "markdown",
      "source": [
        "Our target variable is `loan_status`"
      ],
      "metadata": {
        "id": "hQj-BcTViQl9"
      }
    },
    {
      "cell_type": "markdown",
      "metadata": {
        "id": "kAT1k8nK_x8g"
      },
      "source": [
        "## Step 2. Clean and filter the data "
      ]
    },
    {
      "cell_type": "markdown",
      "metadata": {
        "id": "fQAAjXHa_x8h"
      },
      "source": [
        "It is important that we have clean and good quality data for the analysis. We need to ensure that the data we are using is not based on assumptions, so it is good that we drop the highly missing data. "
      ]
    },
    {
      "cell_type": "markdown",
      "source": [
        "### Drop columns with high missing data ratio"
      ],
      "metadata": {
        "id": "iN-r2WY9cQTr"
      }
    },
    {
      "cell_type": "markdown",
      "metadata": {
        "id": "bIBKCD9B_x8i"
      },
      "source": [
        "Check the columns with the highest missing data ratio"
      ]
    },
    {
      "cell_type": "code",
      "execution_count": 10,
      "metadata": {
        "id": "lEXtQ4Pd_x8i",
        "outputId": "12bcaae6-b222-4197-df5a-8367816d7519",
        "colab": {
          "base_uri": "https://localhost:8080/"
        }
      },
      "outputs": [
        {
          "output_type": "execute_result",
          "data": {
            "text/plain": [
              "verification_status_joint    1.0\n",
              "annual_inc_joint             1.0\n",
              "mo_sin_old_rev_tl_op         1.0\n",
              "mo_sin_old_il_acct           1.0\n",
              "bc_util                      1.0\n",
              "bc_open_to_buy               1.0\n",
              "avg_cur_bal                  1.0\n",
              "acc_open_past_24mths         1.0\n",
              "inq_last_12m                 1.0\n",
              "total_cu_tl                  1.0\n",
              "dtype: float64"
            ]
          },
          "metadata": {},
          "execution_count": 10
        }
      ],
      "source": [
        "df.isna().mean().sort_values(ascending=False).head(10)"
      ]
    },
    {
      "cell_type": "markdown",
      "metadata": {
        "id": "8Co-gZfQ_x8j"
      },
      "source": [
        "Let us remove the columns without any data and recheck the ratio"
      ]
    },
    {
      "cell_type": "code",
      "execution_count": 11,
      "metadata": {
        "id": "W8AskjCN_x8j"
      },
      "outputs": [],
      "source": [
        "df = df.loc[:, df.isna().mean()<1]"
      ]
    },
    {
      "cell_type": "code",
      "execution_count": 12,
      "metadata": {
        "id": "OtnNb_8L_x8j",
        "outputId": "242c91ed-8fde-4c3c-f331-7fbf5e5ad03c",
        "colab": {
          "base_uri": "https://localhost:8080/"
        }
      },
      "outputs": [
        {
          "output_type": "execute_result",
          "data": {
            "text/plain": [
              "next_pymnt_d                  0.971297\n",
              "mths_since_last_record        0.929854\n",
              "mths_since_last_delinq        0.646625\n",
              "desc                          0.325805\n",
              "emp_title                     0.061913\n",
              "emp_length                    0.027066\n",
              "pub_rec_bankruptcies          0.017549\n",
              "last_pymnt_d                  0.001788\n",
              "chargeoff_within_12_mths      0.001410\n",
              "collections_12_mths_ex_med    0.001410\n",
              "dtype: float64"
            ]
          },
          "metadata": {},
          "execution_count": 12
        }
      ],
      "source": [
        "df.isna().mean().sort_values(ascending=False).head(10)"
      ]
    },
    {
      "cell_type": "markdown",
      "metadata": {
        "id": "MkcLdX-E_x8j"
      },
      "source": [
        "Let us also eliminate the columns with more than or equal to 30% of missing data, since everything there will not be of any use to us "
      ]
    },
    {
      "cell_type": "code",
      "execution_count": 13,
      "metadata": {
        "id": "hPDYCiIG_x8k"
      },
      "outputs": [],
      "source": [
        "df = df.loc[:, df.isna().mean()<0.3]"
      ]
    },
    {
      "cell_type": "markdown",
      "source": [
        "### Drop columns with just 1 unique value"
      ],
      "metadata": {
        "id": "aVmJHvWbcXHo"
      }
    },
    {
      "cell_type": "markdown",
      "source": [
        "Let us now check for the count of unique values in a column. Columns with just one unqiue value will not benefit us so we can drop those"
      ],
      "metadata": {
        "id": "t-VACFuA9Obs"
      }
    },
    {
      "cell_type": "code",
      "source": [
        "df.nunique().sort_values(ascending=True).head(10)"
      ],
      "metadata": {
        "colab": {
          "base_uri": "https://localhost:8080/"
        },
        "id": "b7_55y2f87dg",
        "outputId": "c2570d0c-74f7-4d23-d83c-7f51c9c1de4f"
      },
      "execution_count": 14,
      "outputs": [
        {
          "output_type": "execute_result",
          "data": {
            "text/plain": [
              "tax_liens                     1\n",
              "delinq_amnt                   1\n",
              "chargeoff_within_12_mths      1\n",
              "acc_now_delinq                1\n",
              "application_type              1\n",
              "policy_code                   1\n",
              "collections_12_mths_ex_med    1\n",
              "initial_list_status           1\n",
              "pymnt_plan                    1\n",
              "term                          2\n",
              "dtype: int64"
            ]
          },
          "metadata": {},
          "execution_count": 14
        }
      ]
    },
    {
      "cell_type": "code",
      "source": [
        "df = df.loc[:, df.nunique()!=1]"
      ],
      "metadata": {
        "id": "tJK0jvo49bmj"
      },
      "execution_count": 15,
      "outputs": []
    },
    {
      "cell_type": "code",
      "source": [
        "df.shape"
      ],
      "metadata": {
        "colab": {
          "base_uri": "https://localhost:8080/"
        },
        "id": "kOSmnnae9oX6",
        "outputId": "09bbb584-f566-4238-861f-e14a699ce0a5"
      },
      "execution_count": 16,
      "outputs": [
        {
          "output_type": "execute_result",
          "data": {
            "text/plain": [
              "(39717, 44)"
            ]
          },
          "metadata": {},
          "execution_count": 16
        }
      ]
    },
    {
      "cell_type": "markdown",
      "source": [
        "### Drop row duplicates"
      ],
      "metadata": {
        "id": "UZosk9HMccjx"
      }
    },
    {
      "cell_type": "markdown",
      "source": [
        "Now we need to check if there are any duplicates"
      ],
      "metadata": {
        "id": "ZWgGJNHotjUH"
      }
    },
    {
      "cell_type": "code",
      "source": [
        "df[df.duplicated()]"
      ],
      "metadata": {
        "colab": {
          "base_uri": "https://localhost:8080/",
          "height": 142
        },
        "id": "CQSAP7B-tTzh",
        "outputId": "70c2be68-49c4-4a08-82b0-75b201873962"
      },
      "execution_count": 17,
      "outputs": [
        {
          "output_type": "execute_result",
          "data": {
            "text/plain": [
              "Empty DataFrame\n",
              "Columns: [id, member_id, loan_amnt, funded_amnt, funded_amnt_inv, term, int_rate, installment, grade, sub_grade, emp_title, emp_length, home_ownership, annual_inc, verification_status, issue_d, loan_status, url, purpose, title, zip_code, addr_state, dti, delinq_2yrs, earliest_cr_line, inq_last_6mths, open_acc, pub_rec, revol_bal, revol_util, total_acc, out_prncp, out_prncp_inv, total_pymnt, total_pymnt_inv, total_rec_prncp, total_rec_int, total_rec_late_fee, recoveries, collection_recovery_fee, last_pymnt_d, last_pymnt_amnt, last_credit_pull_d, pub_rec_bankruptcies]\n",
              "Index: []\n",
              "\n",
              "[0 rows x 44 columns]"
            ],
            "text/html": [
              "\n",
              "  <div id=\"df-1bd7ce46-cc39-4e6e-a403-9480c2847940\">\n",
              "    <div class=\"colab-df-container\">\n",
              "      <div>\n",
              "<style scoped>\n",
              "    .dataframe tbody tr th:only-of-type {\n",
              "        vertical-align: middle;\n",
              "    }\n",
              "\n",
              "    .dataframe tbody tr th {\n",
              "        vertical-align: top;\n",
              "    }\n",
              "\n",
              "    .dataframe thead th {\n",
              "        text-align: right;\n",
              "    }\n",
              "</style>\n",
              "<table border=\"1\" class=\"dataframe\">\n",
              "  <thead>\n",
              "    <tr style=\"text-align: right;\">\n",
              "      <th></th>\n",
              "      <th>id</th>\n",
              "      <th>member_id</th>\n",
              "      <th>loan_amnt</th>\n",
              "      <th>funded_amnt</th>\n",
              "      <th>funded_amnt_inv</th>\n",
              "      <th>term</th>\n",
              "      <th>int_rate</th>\n",
              "      <th>installment</th>\n",
              "      <th>grade</th>\n",
              "      <th>sub_grade</th>\n",
              "      <th>...</th>\n",
              "      <th>total_pymnt_inv</th>\n",
              "      <th>total_rec_prncp</th>\n",
              "      <th>total_rec_int</th>\n",
              "      <th>total_rec_late_fee</th>\n",
              "      <th>recoveries</th>\n",
              "      <th>collection_recovery_fee</th>\n",
              "      <th>last_pymnt_d</th>\n",
              "      <th>last_pymnt_amnt</th>\n",
              "      <th>last_credit_pull_d</th>\n",
              "      <th>pub_rec_bankruptcies</th>\n",
              "    </tr>\n",
              "  </thead>\n",
              "  <tbody>\n",
              "  </tbody>\n",
              "</table>\n",
              "<p>0 rows × 44 columns</p>\n",
              "</div>\n",
              "      <button class=\"colab-df-convert\" onclick=\"convertToInteractive('df-1bd7ce46-cc39-4e6e-a403-9480c2847940')\"\n",
              "              title=\"Convert this dataframe to an interactive table.\"\n",
              "              style=\"display:none;\">\n",
              "        \n",
              "  <svg xmlns=\"http://www.w3.org/2000/svg\" height=\"24px\"viewBox=\"0 0 24 24\"\n",
              "       width=\"24px\">\n",
              "    <path d=\"M0 0h24v24H0V0z\" fill=\"none\"/>\n",
              "    <path d=\"M18.56 5.44l.94 2.06.94-2.06 2.06-.94-2.06-.94-.94-2.06-.94 2.06-2.06.94zm-11 1L8.5 8.5l.94-2.06 2.06-.94-2.06-.94L8.5 2.5l-.94 2.06-2.06.94zm10 10l.94 2.06.94-2.06 2.06-.94-2.06-.94-.94-2.06-.94 2.06-2.06.94z\"/><path d=\"M17.41 7.96l-1.37-1.37c-.4-.4-.92-.59-1.43-.59-.52 0-1.04.2-1.43.59L10.3 9.45l-7.72 7.72c-.78.78-.78 2.05 0 2.83L4 21.41c.39.39.9.59 1.41.59.51 0 1.02-.2 1.41-.59l7.78-7.78 2.81-2.81c.8-.78.8-2.07 0-2.86zM5.41 20L4 18.59l7.72-7.72 1.47 1.35L5.41 20z\"/>\n",
              "  </svg>\n",
              "      </button>\n",
              "      \n",
              "  <style>\n",
              "    .colab-df-container {\n",
              "      display:flex;\n",
              "      flex-wrap:wrap;\n",
              "      gap: 12px;\n",
              "    }\n",
              "\n",
              "    .colab-df-convert {\n",
              "      background-color: #E8F0FE;\n",
              "      border: none;\n",
              "      border-radius: 50%;\n",
              "      cursor: pointer;\n",
              "      display: none;\n",
              "      fill: #1967D2;\n",
              "      height: 32px;\n",
              "      padding: 0 0 0 0;\n",
              "      width: 32px;\n",
              "    }\n",
              "\n",
              "    .colab-df-convert:hover {\n",
              "      background-color: #E2EBFA;\n",
              "      box-shadow: 0px 1px 2px rgba(60, 64, 67, 0.3), 0px 1px 3px 1px rgba(60, 64, 67, 0.15);\n",
              "      fill: #174EA6;\n",
              "    }\n",
              "\n",
              "    [theme=dark] .colab-df-convert {\n",
              "      background-color: #3B4455;\n",
              "      fill: #D2E3FC;\n",
              "    }\n",
              "\n",
              "    [theme=dark] .colab-df-convert:hover {\n",
              "      background-color: #434B5C;\n",
              "      box-shadow: 0px 1px 3px 1px rgba(0, 0, 0, 0.15);\n",
              "      filter: drop-shadow(0px 1px 2px rgba(0, 0, 0, 0.3));\n",
              "      fill: #FFFFFF;\n",
              "    }\n",
              "  </style>\n",
              "\n",
              "      <script>\n",
              "        const buttonEl =\n",
              "          document.querySelector('#df-1bd7ce46-cc39-4e6e-a403-9480c2847940 button.colab-df-convert');\n",
              "        buttonEl.style.display =\n",
              "          google.colab.kernel.accessAllowed ? 'block' : 'none';\n",
              "\n",
              "        async function convertToInteractive(key) {\n",
              "          const element = document.querySelector('#df-1bd7ce46-cc39-4e6e-a403-9480c2847940');\n",
              "          const dataTable =\n",
              "            await google.colab.kernel.invokeFunction('convertToInteractive',\n",
              "                                                     [key], {});\n",
              "          if (!dataTable) return;\n",
              "\n",
              "          const docLinkHtml = 'Like what you see? Visit the ' +\n",
              "            '<a target=\"_blank\" href=https://colab.research.google.com/notebooks/data_table.ipynb>data table notebook</a>'\n",
              "            + ' to learn more about interactive tables.';\n",
              "          element.innerHTML = '';\n",
              "          dataTable['output_type'] = 'display_data';\n",
              "          await google.colab.output.renderOutput(dataTable, element);\n",
              "          const docLink = document.createElement('div');\n",
              "          docLink.innerHTML = docLinkHtml;\n",
              "          element.appendChild(docLink);\n",
              "        }\n",
              "      </script>\n",
              "    </div>\n",
              "  </div>\n",
              "  "
            ]
          },
          "metadata": {},
          "execution_count": 17
        }
      ]
    },
    {
      "cell_type": "markdown",
      "metadata": {
        "id": "JPDr2LAR_x8l"
      },
      "source": [
        "Let us see what columns we are left with along with their data type"
      ]
    },
    {
      "cell_type": "code",
      "execution_count": 18,
      "metadata": {
        "id": "CIHmAq7S_x8m",
        "outputId": "9f684031-1573-4ff1-bdd7-1ba8a323f776",
        "colab": {
          "base_uri": "https://localhost:8080/"
        }
      },
      "outputs": [
        {
          "output_type": "stream",
          "name": "stdout",
          "text": [
            "<class 'pandas.core.frame.DataFrame'>\n",
            "RangeIndex: 39717 entries, 0 to 39716\n",
            "Data columns (total 44 columns):\n",
            " #   Column                   Non-Null Count  Dtype  \n",
            "---  ------                   --------------  -----  \n",
            " 0   id                       39717 non-null  int64  \n",
            " 1   member_id                39717 non-null  int64  \n",
            " 2   loan_amnt                39717 non-null  int64  \n",
            " 3   funded_amnt              39717 non-null  int64  \n",
            " 4   funded_amnt_inv          39717 non-null  float64\n",
            " 5   term                     39717 non-null  object \n",
            " 6   int_rate                 39717 non-null  object \n",
            " 7   installment              39717 non-null  float64\n",
            " 8   grade                    39717 non-null  object \n",
            " 9   sub_grade                39717 non-null  object \n",
            " 10  emp_title                37258 non-null  object \n",
            " 11  emp_length               38642 non-null  object \n",
            " 12  home_ownership           39717 non-null  object \n",
            " 13  annual_inc               39717 non-null  float64\n",
            " 14  verification_status      39717 non-null  object \n",
            " 15  issue_d                  39717 non-null  object \n",
            " 16  loan_status              39717 non-null  object \n",
            " 17  url                      39717 non-null  object \n",
            " 18  purpose                  39717 non-null  object \n",
            " 19  title                    39706 non-null  object \n",
            " 20  zip_code                 39717 non-null  object \n",
            " 21  addr_state               39717 non-null  object \n",
            " 22  dti                      39717 non-null  float64\n",
            " 23  delinq_2yrs              39717 non-null  int64  \n",
            " 24  earliest_cr_line         39717 non-null  object \n",
            " 25  inq_last_6mths           39717 non-null  int64  \n",
            " 26  open_acc                 39717 non-null  int64  \n",
            " 27  pub_rec                  39717 non-null  int64  \n",
            " 28  revol_bal                39717 non-null  int64  \n",
            " 29  revol_util               39667 non-null  object \n",
            " 30  total_acc                39717 non-null  int64  \n",
            " 31  out_prncp                39717 non-null  float64\n",
            " 32  out_prncp_inv            39717 non-null  float64\n",
            " 33  total_pymnt              39717 non-null  float64\n",
            " 34  total_pymnt_inv          39717 non-null  float64\n",
            " 35  total_rec_prncp          39717 non-null  float64\n",
            " 36  total_rec_int            39717 non-null  float64\n",
            " 37  total_rec_late_fee       39717 non-null  float64\n",
            " 38  recoveries               39717 non-null  float64\n",
            " 39  collection_recovery_fee  39717 non-null  float64\n",
            " 40  last_pymnt_d             39646 non-null  object \n",
            " 41  last_pymnt_amnt          39717 non-null  float64\n",
            " 42  last_credit_pull_d       39715 non-null  object \n",
            " 43  pub_rec_bankruptcies     39020 non-null  float64\n",
            "dtypes: float64(15), int64(10), object(19)\n",
            "memory usage: 13.3+ MB\n"
          ]
        }
      ],
      "source": [
        "df.info()"
      ]
    },
    {
      "cell_type": "markdown",
      "source": [
        "### Load data dictionary"
      ],
      "metadata": {
        "id": "hbWG04T0chXE"
      }
    },
    {
      "cell_type": "markdown",
      "metadata": {
        "id": "2KLAueHZ_x8m"
      },
      "source": [
        "It would be handy to have a dataframe with the descriptions of the columns we have left. \n",
        "\n",
        "*Since I had opened the sheet locally I can tell that we will only require `LoanStats` sheet.*"
      ]
    },
    {
      "cell_type": "code",
      "execution_count": 19,
      "metadata": {
        "id": "xkacWs5M_x8m"
      },
      "outputs": [],
      "source": [
        "# data_dict_url = r'https://cdn.upgrad.com/UpGrad/temp/af860da6-f838-47d6-ad97-551022550ee4/Data_Dictionary.xlsx'\n",
        "data_dict_url = r'https://raw.githubusercontent.com/rahul-nanwani/lending-club/master/datasets/Data_Dictionary.xlsx'\n",
        "data_dict = pd.read_excel(data_dict_url, sheet_name='LoanStats')"
      ]
    },
    {
      "cell_type": "code",
      "execution_count": 20,
      "metadata": {
        "id": "B1PLXzxy_x8n",
        "outputId": "9c5ccd14-8b10-414f-b0d2-bf7b2c5c10dd",
        "colab": {
          "base_uri": "https://localhost:8080/",
          "height": 204
        }
      },
      "outputs": [
        {
          "output_type": "execute_result",
          "data": {
            "text/plain": [
              "            LoanStatNew                                        Description\n",
              "0        acc_now_delinq  The number of accounts on which the borrower i...\n",
              "1  acc_open_past_24mths         Number of trades opened in past 24 months.\n",
              "2            addr_state  The state provided by the borrower in the loan...\n",
              "3              all_util              Balance to credit limit on all trades\n",
              "4            annual_inc  The self-reported annual income provided by th..."
            ],
            "text/html": [
              "\n",
              "  <div id=\"df-ef0bc83c-f24e-4e96-a5a0-ca2821176f89\">\n",
              "    <div class=\"colab-df-container\">\n",
              "      <div>\n",
              "<style scoped>\n",
              "    .dataframe tbody tr th:only-of-type {\n",
              "        vertical-align: middle;\n",
              "    }\n",
              "\n",
              "    .dataframe tbody tr th {\n",
              "        vertical-align: top;\n",
              "    }\n",
              "\n",
              "    .dataframe thead th {\n",
              "        text-align: right;\n",
              "    }\n",
              "</style>\n",
              "<table border=\"1\" class=\"dataframe\">\n",
              "  <thead>\n",
              "    <tr style=\"text-align: right;\">\n",
              "      <th></th>\n",
              "      <th>LoanStatNew</th>\n",
              "      <th>Description</th>\n",
              "    </tr>\n",
              "  </thead>\n",
              "  <tbody>\n",
              "    <tr>\n",
              "      <th>0</th>\n",
              "      <td>acc_now_delinq</td>\n",
              "      <td>The number of accounts on which the borrower i...</td>\n",
              "    </tr>\n",
              "    <tr>\n",
              "      <th>1</th>\n",
              "      <td>acc_open_past_24mths</td>\n",
              "      <td>Number of trades opened in past 24 months.</td>\n",
              "    </tr>\n",
              "    <tr>\n",
              "      <th>2</th>\n",
              "      <td>addr_state</td>\n",
              "      <td>The state provided by the borrower in the loan...</td>\n",
              "    </tr>\n",
              "    <tr>\n",
              "      <th>3</th>\n",
              "      <td>all_util</td>\n",
              "      <td>Balance to credit limit on all trades</td>\n",
              "    </tr>\n",
              "    <tr>\n",
              "      <th>4</th>\n",
              "      <td>annual_inc</td>\n",
              "      <td>The self-reported annual income provided by th...</td>\n",
              "    </tr>\n",
              "  </tbody>\n",
              "</table>\n",
              "</div>\n",
              "      <button class=\"colab-df-convert\" onclick=\"convertToInteractive('df-ef0bc83c-f24e-4e96-a5a0-ca2821176f89')\"\n",
              "              title=\"Convert this dataframe to an interactive table.\"\n",
              "              style=\"display:none;\">\n",
              "        \n",
              "  <svg xmlns=\"http://www.w3.org/2000/svg\" height=\"24px\"viewBox=\"0 0 24 24\"\n",
              "       width=\"24px\">\n",
              "    <path d=\"M0 0h24v24H0V0z\" fill=\"none\"/>\n",
              "    <path d=\"M18.56 5.44l.94 2.06.94-2.06 2.06-.94-2.06-.94-.94-2.06-.94 2.06-2.06.94zm-11 1L8.5 8.5l.94-2.06 2.06-.94-2.06-.94L8.5 2.5l-.94 2.06-2.06.94zm10 10l.94 2.06.94-2.06 2.06-.94-2.06-.94-.94-2.06-.94 2.06-2.06.94z\"/><path d=\"M17.41 7.96l-1.37-1.37c-.4-.4-.92-.59-1.43-.59-.52 0-1.04.2-1.43.59L10.3 9.45l-7.72 7.72c-.78.78-.78 2.05 0 2.83L4 21.41c.39.39.9.59 1.41.59.51 0 1.02-.2 1.41-.59l7.78-7.78 2.81-2.81c.8-.78.8-2.07 0-2.86zM5.41 20L4 18.59l7.72-7.72 1.47 1.35L5.41 20z\"/>\n",
              "  </svg>\n",
              "      </button>\n",
              "      \n",
              "  <style>\n",
              "    .colab-df-container {\n",
              "      display:flex;\n",
              "      flex-wrap:wrap;\n",
              "      gap: 12px;\n",
              "    }\n",
              "\n",
              "    .colab-df-convert {\n",
              "      background-color: #E8F0FE;\n",
              "      border: none;\n",
              "      border-radius: 50%;\n",
              "      cursor: pointer;\n",
              "      display: none;\n",
              "      fill: #1967D2;\n",
              "      height: 32px;\n",
              "      padding: 0 0 0 0;\n",
              "      width: 32px;\n",
              "    }\n",
              "\n",
              "    .colab-df-convert:hover {\n",
              "      background-color: #E2EBFA;\n",
              "      box-shadow: 0px 1px 2px rgba(60, 64, 67, 0.3), 0px 1px 3px 1px rgba(60, 64, 67, 0.15);\n",
              "      fill: #174EA6;\n",
              "    }\n",
              "\n",
              "    [theme=dark] .colab-df-convert {\n",
              "      background-color: #3B4455;\n",
              "      fill: #D2E3FC;\n",
              "    }\n",
              "\n",
              "    [theme=dark] .colab-df-convert:hover {\n",
              "      background-color: #434B5C;\n",
              "      box-shadow: 0px 1px 3px 1px rgba(0, 0, 0, 0.15);\n",
              "      filter: drop-shadow(0px 1px 2px rgba(0, 0, 0, 0.3));\n",
              "      fill: #FFFFFF;\n",
              "    }\n",
              "  </style>\n",
              "\n",
              "      <script>\n",
              "        const buttonEl =\n",
              "          document.querySelector('#df-ef0bc83c-f24e-4e96-a5a0-ca2821176f89 button.colab-df-convert');\n",
              "        buttonEl.style.display =\n",
              "          google.colab.kernel.accessAllowed ? 'block' : 'none';\n",
              "\n",
              "        async function convertToInteractive(key) {\n",
              "          const element = document.querySelector('#df-ef0bc83c-f24e-4e96-a5a0-ca2821176f89');\n",
              "          const dataTable =\n",
              "            await google.colab.kernel.invokeFunction('convertToInteractive',\n",
              "                                                     [key], {});\n",
              "          if (!dataTable) return;\n",
              "\n",
              "          const docLinkHtml = 'Like what you see? Visit the ' +\n",
              "            '<a target=\"_blank\" href=https://colab.research.google.com/notebooks/data_table.ipynb>data table notebook</a>'\n",
              "            + ' to learn more about interactive tables.';\n",
              "          element.innerHTML = '';\n",
              "          dataTable['output_type'] = 'display_data';\n",
              "          await google.colab.output.renderOutput(dataTable, element);\n",
              "          const docLink = document.createElement('div');\n",
              "          docLink.innerHTML = docLinkHtml;\n",
              "          element.appendChild(docLink);\n",
              "        }\n",
              "      </script>\n",
              "    </div>\n",
              "  </div>\n",
              "  "
            ]
          },
          "metadata": {},
          "execution_count": 20
        }
      ],
      "source": [
        "data_dict.head()"
      ]
    },
    {
      "cell_type": "code",
      "execution_count": 21,
      "metadata": {
        "id": "Bdomj7ht_x8n"
      },
      "outputs": [],
      "source": [
        "data_dict.columns = ['Name', 'Description']"
      ]
    },
    {
      "cell_type": "code",
      "execution_count": 22,
      "metadata": {
        "id": "Vcgesgds_x8o"
      },
      "outputs": [],
      "source": [
        "data_dict = data_dict[data_dict['Name'].isin(df.columns)]\n",
        "data_dict.reset_index(inplace=True, drop=True)"
      ]
    },
    {
      "cell_type": "markdown",
      "metadata": {
        "id": "-9WCmMIo_x8o"
      },
      "source": [
        "Now we have a clean data dictionary we can refer to "
      ]
    },
    {
      "cell_type": "code",
      "execution_count": 23,
      "metadata": {
        "id": "n00Dgp2P_x8o",
        "outputId": "12751bec-4bb5-4cb8-c1c6-c3d19e7637ef",
        "colab": {
          "base_uri": "https://localhost:8080/",
          "height": 1000
        }
      },
      "outputs": [
        {
          "output_type": "execute_result",
          "data": {
            "text/plain": [
              "                       Name                                        Description\n",
              "0                addr_state  The state provided by the borrower in the loan...\n",
              "1                annual_inc  The self-reported annual income provided by th...\n",
              "2   collection_recovery_fee                     post charge off collection fee\n",
              "3               delinq_2yrs  The number of 30+ days past-due incidences of ...\n",
              "4                       dti  A ratio calculated using the borrower’s total ...\n",
              "5          earliest_cr_line  The month the borrower's earliest reported cre...\n",
              "6                emp_length  Employment length in years. Possible values ar...\n",
              "7                 emp_title  The job title supplied by the Borrower when ap...\n",
              "8               funded_amnt  The total amount committed to that loan at tha...\n",
              "9           funded_amnt_inv  The total amount committed by investors for th...\n",
              "10                    grade                             LC assigned loan grade\n",
              "11           home_ownership  The home ownership status provided by the borr...\n",
              "12                       id      A unique LC assigned ID for the loan listing.\n",
              "13           inq_last_6mths  The number of inquiries in past 6 months (excl...\n",
              "14              installment  The monthly payment owed by the borrower if th...\n",
              "15                 int_rate                          Interest Rate on the loan\n",
              "16                  issue_d                The month which the loan was funded\n",
              "17       last_credit_pull_d  The most recent month LC pulled credit for thi...\n",
              "18          last_pymnt_amnt                 Last total payment amount received\n",
              "19             last_pymnt_d                    Last month payment was received\n",
              "20                loan_amnt  The listed amount of the loan applied for by t...\n",
              "21              loan_status                         Current status of the loan\n",
              "22                member_id   A unique LC assigned Id for the borrower member.\n",
              "23                 open_acc  The number of open credit lines in the borrowe...\n",
              "24                out_prncp  Remaining outstanding principal for total amou...\n",
              "25            out_prncp_inv  Remaining outstanding principal for portion of...\n",
              "26                  pub_rec                Number of derogatory public records\n",
              "27     pub_rec_bankruptcies               Number of public record bankruptcies\n",
              "28                  purpose  A category provided by the borrower for the lo...\n",
              "29               recoveries                     post charge off gross recovery\n",
              "30                revol_bal                     Total credit revolving balance\n",
              "31               revol_util  Revolving line utilization rate, or the amount...\n",
              "32                sub_grade                          LC assigned loan subgrade\n",
              "33                     term  The number of payments on the loan. Values are...\n",
              "34                    title            The loan title provided by the borrower\n",
              "35                total_acc  The total number of credit lines currently in ...\n",
              "36              total_pymnt  Payments received to date for total amount funded\n",
              "37          total_pymnt_inv  Payments received to date for portion of total...\n",
              "38            total_rec_int                          Interest received to date\n",
              "39       total_rec_late_fee                         Late fees received to date\n",
              "40          total_rec_prncp                         Principal received to date\n",
              "41                      url             URL for the LC page with listing data.\n",
              "42      verification_status  Indicates if income was verified by LC, not ve...\n",
              "43                 zip_code  The first 3 numbers of the zip code provided b..."
            ],
            "text/html": [
              "\n",
              "  <div id=\"df-90dd69a6-570b-4191-bad6-e38c7d1375c1\">\n",
              "    <div class=\"colab-df-container\">\n",
              "      <div>\n",
              "<style scoped>\n",
              "    .dataframe tbody tr th:only-of-type {\n",
              "        vertical-align: middle;\n",
              "    }\n",
              "\n",
              "    .dataframe tbody tr th {\n",
              "        vertical-align: top;\n",
              "    }\n",
              "\n",
              "    .dataframe thead th {\n",
              "        text-align: right;\n",
              "    }\n",
              "</style>\n",
              "<table border=\"1\" class=\"dataframe\">\n",
              "  <thead>\n",
              "    <tr style=\"text-align: right;\">\n",
              "      <th></th>\n",
              "      <th>Name</th>\n",
              "      <th>Description</th>\n",
              "    </tr>\n",
              "  </thead>\n",
              "  <tbody>\n",
              "    <tr>\n",
              "      <th>0</th>\n",
              "      <td>addr_state</td>\n",
              "      <td>The state provided by the borrower in the loan...</td>\n",
              "    </tr>\n",
              "    <tr>\n",
              "      <th>1</th>\n",
              "      <td>annual_inc</td>\n",
              "      <td>The self-reported annual income provided by th...</td>\n",
              "    </tr>\n",
              "    <tr>\n",
              "      <th>2</th>\n",
              "      <td>collection_recovery_fee</td>\n",
              "      <td>post charge off collection fee</td>\n",
              "    </tr>\n",
              "    <tr>\n",
              "      <th>3</th>\n",
              "      <td>delinq_2yrs</td>\n",
              "      <td>The number of 30+ days past-due incidences of ...</td>\n",
              "    </tr>\n",
              "    <tr>\n",
              "      <th>4</th>\n",
              "      <td>dti</td>\n",
              "      <td>A ratio calculated using the borrower’s total ...</td>\n",
              "    </tr>\n",
              "    <tr>\n",
              "      <th>5</th>\n",
              "      <td>earliest_cr_line</td>\n",
              "      <td>The month the borrower's earliest reported cre...</td>\n",
              "    </tr>\n",
              "    <tr>\n",
              "      <th>6</th>\n",
              "      <td>emp_length</td>\n",
              "      <td>Employment length in years. Possible values ar...</td>\n",
              "    </tr>\n",
              "    <tr>\n",
              "      <th>7</th>\n",
              "      <td>emp_title</td>\n",
              "      <td>The job title supplied by the Borrower when ap...</td>\n",
              "    </tr>\n",
              "    <tr>\n",
              "      <th>8</th>\n",
              "      <td>funded_amnt</td>\n",
              "      <td>The total amount committed to that loan at tha...</td>\n",
              "    </tr>\n",
              "    <tr>\n",
              "      <th>9</th>\n",
              "      <td>funded_amnt_inv</td>\n",
              "      <td>The total amount committed by investors for th...</td>\n",
              "    </tr>\n",
              "    <tr>\n",
              "      <th>10</th>\n",
              "      <td>grade</td>\n",
              "      <td>LC assigned loan grade</td>\n",
              "    </tr>\n",
              "    <tr>\n",
              "      <th>11</th>\n",
              "      <td>home_ownership</td>\n",
              "      <td>The home ownership status provided by the borr...</td>\n",
              "    </tr>\n",
              "    <tr>\n",
              "      <th>12</th>\n",
              "      <td>id</td>\n",
              "      <td>A unique LC assigned ID for the loan listing.</td>\n",
              "    </tr>\n",
              "    <tr>\n",
              "      <th>13</th>\n",
              "      <td>inq_last_6mths</td>\n",
              "      <td>The number of inquiries in past 6 months (excl...</td>\n",
              "    </tr>\n",
              "    <tr>\n",
              "      <th>14</th>\n",
              "      <td>installment</td>\n",
              "      <td>The monthly payment owed by the borrower if th...</td>\n",
              "    </tr>\n",
              "    <tr>\n",
              "      <th>15</th>\n",
              "      <td>int_rate</td>\n",
              "      <td>Interest Rate on the loan</td>\n",
              "    </tr>\n",
              "    <tr>\n",
              "      <th>16</th>\n",
              "      <td>issue_d</td>\n",
              "      <td>The month which the loan was funded</td>\n",
              "    </tr>\n",
              "    <tr>\n",
              "      <th>17</th>\n",
              "      <td>last_credit_pull_d</td>\n",
              "      <td>The most recent month LC pulled credit for thi...</td>\n",
              "    </tr>\n",
              "    <tr>\n",
              "      <th>18</th>\n",
              "      <td>last_pymnt_amnt</td>\n",
              "      <td>Last total payment amount received</td>\n",
              "    </tr>\n",
              "    <tr>\n",
              "      <th>19</th>\n",
              "      <td>last_pymnt_d</td>\n",
              "      <td>Last month payment was received</td>\n",
              "    </tr>\n",
              "    <tr>\n",
              "      <th>20</th>\n",
              "      <td>loan_amnt</td>\n",
              "      <td>The listed amount of the loan applied for by t...</td>\n",
              "    </tr>\n",
              "    <tr>\n",
              "      <th>21</th>\n",
              "      <td>loan_status</td>\n",
              "      <td>Current status of the loan</td>\n",
              "    </tr>\n",
              "    <tr>\n",
              "      <th>22</th>\n",
              "      <td>member_id</td>\n",
              "      <td>A unique LC assigned Id for the borrower member.</td>\n",
              "    </tr>\n",
              "    <tr>\n",
              "      <th>23</th>\n",
              "      <td>open_acc</td>\n",
              "      <td>The number of open credit lines in the borrowe...</td>\n",
              "    </tr>\n",
              "    <tr>\n",
              "      <th>24</th>\n",
              "      <td>out_prncp</td>\n",
              "      <td>Remaining outstanding principal for total amou...</td>\n",
              "    </tr>\n",
              "    <tr>\n",
              "      <th>25</th>\n",
              "      <td>out_prncp_inv</td>\n",
              "      <td>Remaining outstanding principal for portion of...</td>\n",
              "    </tr>\n",
              "    <tr>\n",
              "      <th>26</th>\n",
              "      <td>pub_rec</td>\n",
              "      <td>Number of derogatory public records</td>\n",
              "    </tr>\n",
              "    <tr>\n",
              "      <th>27</th>\n",
              "      <td>pub_rec_bankruptcies</td>\n",
              "      <td>Number of public record bankruptcies</td>\n",
              "    </tr>\n",
              "    <tr>\n",
              "      <th>28</th>\n",
              "      <td>purpose</td>\n",
              "      <td>A category provided by the borrower for the lo...</td>\n",
              "    </tr>\n",
              "    <tr>\n",
              "      <th>29</th>\n",
              "      <td>recoveries</td>\n",
              "      <td>post charge off gross recovery</td>\n",
              "    </tr>\n",
              "    <tr>\n",
              "      <th>30</th>\n",
              "      <td>revol_bal</td>\n",
              "      <td>Total credit revolving balance</td>\n",
              "    </tr>\n",
              "    <tr>\n",
              "      <th>31</th>\n",
              "      <td>revol_util</td>\n",
              "      <td>Revolving line utilization rate, or the amount...</td>\n",
              "    </tr>\n",
              "    <tr>\n",
              "      <th>32</th>\n",
              "      <td>sub_grade</td>\n",
              "      <td>LC assigned loan subgrade</td>\n",
              "    </tr>\n",
              "    <tr>\n",
              "      <th>33</th>\n",
              "      <td>term</td>\n",
              "      <td>The number of payments on the loan. Values are...</td>\n",
              "    </tr>\n",
              "    <tr>\n",
              "      <th>34</th>\n",
              "      <td>title</td>\n",
              "      <td>The loan title provided by the borrower</td>\n",
              "    </tr>\n",
              "    <tr>\n",
              "      <th>35</th>\n",
              "      <td>total_acc</td>\n",
              "      <td>The total number of credit lines currently in ...</td>\n",
              "    </tr>\n",
              "    <tr>\n",
              "      <th>36</th>\n",
              "      <td>total_pymnt</td>\n",
              "      <td>Payments received to date for total amount funded</td>\n",
              "    </tr>\n",
              "    <tr>\n",
              "      <th>37</th>\n",
              "      <td>total_pymnt_inv</td>\n",
              "      <td>Payments received to date for portion of total...</td>\n",
              "    </tr>\n",
              "    <tr>\n",
              "      <th>38</th>\n",
              "      <td>total_rec_int</td>\n",
              "      <td>Interest received to date</td>\n",
              "    </tr>\n",
              "    <tr>\n",
              "      <th>39</th>\n",
              "      <td>total_rec_late_fee</td>\n",
              "      <td>Late fees received to date</td>\n",
              "    </tr>\n",
              "    <tr>\n",
              "      <th>40</th>\n",
              "      <td>total_rec_prncp</td>\n",
              "      <td>Principal received to date</td>\n",
              "    </tr>\n",
              "    <tr>\n",
              "      <th>41</th>\n",
              "      <td>url</td>\n",
              "      <td>URL for the LC page with listing data.</td>\n",
              "    </tr>\n",
              "    <tr>\n",
              "      <th>42</th>\n",
              "      <td>verification_status</td>\n",
              "      <td>Indicates if income was verified by LC, not ve...</td>\n",
              "    </tr>\n",
              "    <tr>\n",
              "      <th>43</th>\n",
              "      <td>zip_code</td>\n",
              "      <td>The first 3 numbers of the zip code provided b...</td>\n",
              "    </tr>\n",
              "  </tbody>\n",
              "</table>\n",
              "</div>\n",
              "      <button class=\"colab-df-convert\" onclick=\"convertToInteractive('df-90dd69a6-570b-4191-bad6-e38c7d1375c1')\"\n",
              "              title=\"Convert this dataframe to an interactive table.\"\n",
              "              style=\"display:none;\">\n",
              "        \n",
              "  <svg xmlns=\"http://www.w3.org/2000/svg\" height=\"24px\"viewBox=\"0 0 24 24\"\n",
              "       width=\"24px\">\n",
              "    <path d=\"M0 0h24v24H0V0z\" fill=\"none\"/>\n",
              "    <path d=\"M18.56 5.44l.94 2.06.94-2.06 2.06-.94-2.06-.94-.94-2.06-.94 2.06-2.06.94zm-11 1L8.5 8.5l.94-2.06 2.06-.94-2.06-.94L8.5 2.5l-.94 2.06-2.06.94zm10 10l.94 2.06.94-2.06 2.06-.94-2.06-.94-.94-2.06-.94 2.06-2.06.94z\"/><path d=\"M17.41 7.96l-1.37-1.37c-.4-.4-.92-.59-1.43-.59-.52 0-1.04.2-1.43.59L10.3 9.45l-7.72 7.72c-.78.78-.78 2.05 0 2.83L4 21.41c.39.39.9.59 1.41.59.51 0 1.02-.2 1.41-.59l7.78-7.78 2.81-2.81c.8-.78.8-2.07 0-2.86zM5.41 20L4 18.59l7.72-7.72 1.47 1.35L5.41 20z\"/>\n",
              "  </svg>\n",
              "      </button>\n",
              "      \n",
              "  <style>\n",
              "    .colab-df-container {\n",
              "      display:flex;\n",
              "      flex-wrap:wrap;\n",
              "      gap: 12px;\n",
              "    }\n",
              "\n",
              "    .colab-df-convert {\n",
              "      background-color: #E8F0FE;\n",
              "      border: none;\n",
              "      border-radius: 50%;\n",
              "      cursor: pointer;\n",
              "      display: none;\n",
              "      fill: #1967D2;\n",
              "      height: 32px;\n",
              "      padding: 0 0 0 0;\n",
              "      width: 32px;\n",
              "    }\n",
              "\n",
              "    .colab-df-convert:hover {\n",
              "      background-color: #E2EBFA;\n",
              "      box-shadow: 0px 1px 2px rgba(60, 64, 67, 0.3), 0px 1px 3px 1px rgba(60, 64, 67, 0.15);\n",
              "      fill: #174EA6;\n",
              "    }\n",
              "\n",
              "    [theme=dark] .colab-df-convert {\n",
              "      background-color: #3B4455;\n",
              "      fill: #D2E3FC;\n",
              "    }\n",
              "\n",
              "    [theme=dark] .colab-df-convert:hover {\n",
              "      background-color: #434B5C;\n",
              "      box-shadow: 0px 1px 3px 1px rgba(0, 0, 0, 0.15);\n",
              "      filter: drop-shadow(0px 1px 2px rgba(0, 0, 0, 0.3));\n",
              "      fill: #FFFFFF;\n",
              "    }\n",
              "  </style>\n",
              "\n",
              "      <script>\n",
              "        const buttonEl =\n",
              "          document.querySelector('#df-90dd69a6-570b-4191-bad6-e38c7d1375c1 button.colab-df-convert');\n",
              "        buttonEl.style.display =\n",
              "          google.colab.kernel.accessAllowed ? 'block' : 'none';\n",
              "\n",
              "        async function convertToInteractive(key) {\n",
              "          const element = document.querySelector('#df-90dd69a6-570b-4191-bad6-e38c7d1375c1');\n",
              "          const dataTable =\n",
              "            await google.colab.kernel.invokeFunction('convertToInteractive',\n",
              "                                                     [key], {});\n",
              "          if (!dataTable) return;\n",
              "\n",
              "          const docLinkHtml = 'Like what you see? Visit the ' +\n",
              "            '<a target=\"_blank\" href=https://colab.research.google.com/notebooks/data_table.ipynb>data table notebook</a>'\n",
              "            + ' to learn more about interactive tables.';\n",
              "          element.innerHTML = '';\n",
              "          dataTable['output_type'] = 'display_data';\n",
              "          await google.colab.output.renderOutput(dataTable, element);\n",
              "          const docLink = document.createElement('div');\n",
              "          docLink.innerHTML = docLinkHtml;\n",
              "          element.appendChild(docLink);\n",
              "        }\n",
              "      </script>\n",
              "    </div>\n",
              "  </div>\n",
              "  "
            ]
          },
          "metadata": {},
          "execution_count": 23
        }
      ],
      "source": [
        "data_dict"
      ]
    },
    {
      "cell_type": "markdown",
      "source": [
        "### Drop irrelevant columns "
      ],
      "metadata": {
        "id": "V99NKun4cmnS"
      }
    },
    {
      "cell_type": "markdown",
      "source": [
        "Now we can drop the columns that won't help us in our analysis. We can drop the behavioural variables that are generated after the loan approved or are not available at the time of loan application. We can also drop irrelevant demographical variables. \n"
      ],
      "metadata": {
        "id": "P_doerfaEuUT"
      }
    },
    {
      "cell_type": "code",
      "source": [
        "behavioural_columns = [\n",
        "    'collection_recovery_fee',\n",
        "    'delinq_2yrs',\n",
        "    'earliest_cr_line',\n",
        "    'inq_last_6mths',\n",
        "    'last_credit_pull_d',\n",
        "    'last_pymnt_amnt',\n",
        "    'last_pymnt_d',\n",
        "    'open_acc',\n",
        "    'out_prncp',\n",
        "    'out_prncp_inv',\n",
        "    'pub_rec',\n",
        "    'recoveries',\n",
        "    'revol_bal',\n",
        "    'revol_util',\n",
        "    'total_acc',\n",
        "    'total_pymnt',\n",
        "    'total_pymnt_inv',\n",
        "    'total_rec_int',\n",
        "    'total_rec_late_fee',\n",
        "    'total_rec_prncp'\n",
        "]\n",
        "demographical_columns = [\n",
        "    'addr_state', \n",
        "    'emp_title', \n",
        "    'id', \n",
        "    'member_id', \n",
        "    'title', \n",
        "    'url', \n",
        "    'zip_code'\n",
        "]"
      ],
      "metadata": {
        "id": "na_3E7KIEtsN"
      },
      "execution_count": 24,
      "outputs": []
    },
    {
      "cell_type": "code",
      "source": [
        "df.drop(behavioural_columns+demographical_columns, axis=1, inplace=True)"
      ],
      "metadata": {
        "id": "28PoL0I7KeUu"
      },
      "execution_count": 25,
      "outputs": []
    },
    {
      "cell_type": "markdown",
      "source": [
        "### Drop irrelevant rows"
      ],
      "metadata": {
        "id": "ZNcTyKz3ct_w"
      }
    },
    {
      "cell_type": "markdown",
      "source": [
        "We don't need rows which are on-going loans, as we cannot say if it is a defaulted loan or has paid-off. We can drop these rows."
      ],
      "metadata": {
        "id": "g1iqZtu2O30V"
      }
    },
    {
      "cell_type": "code",
      "source": [
        "df = df[df['loan_status']!='Current']\n",
        "df.reset_index(inplace=True, drop=True)"
      ],
      "metadata": {
        "id": "qi3awCz_PNNp"
      },
      "execution_count": 26,
      "outputs": []
    },
    {
      "cell_type": "markdown",
      "source": [
        "### Handling missing values"
      ],
      "metadata": {
        "id": "dPKpSX3cc7sm"
      }
    },
    {
      "cell_type": "code",
      "source": [
        "df.isna().mean().sort_values(ascending=False)"
      ],
      "metadata": {
        "colab": {
          "base_uri": "https://localhost:8080/"
        },
        "id": "MkVurOOidCAw",
        "outputId": "4b2c8ff2-e6c6-4887-b1ba-097b30f51c54"
      },
      "execution_count": 27,
      "outputs": [
        {
          "output_type": "execute_result",
          "data": {
            "text/plain": [
              "emp_length              0.026778\n",
              "pub_rec_bankruptcies    0.018068\n",
              "funded_amnt_inv         0.000000\n",
              "term                    0.000000\n",
              "int_rate                0.000000\n",
              "installment             0.000000\n",
              "grade                   0.000000\n",
              "sub_grade               0.000000\n",
              "funded_amnt             0.000000\n",
              "home_ownership          0.000000\n",
              "annual_inc              0.000000\n",
              "verification_status     0.000000\n",
              "issue_d                 0.000000\n",
              "loan_status             0.000000\n",
              "purpose                 0.000000\n",
              "dti                     0.000000\n",
              "loan_amnt               0.000000\n",
              "dtype: float64"
            ]
          },
          "metadata": {},
          "execution_count": 27
        }
      ]
    },
    {
      "cell_type": "markdown",
      "source": [
        "Since we have very low proportion of missing values it is safe to drop these rows"
      ],
      "metadata": {
        "id": "89a8Hz5adLPo"
      }
    },
    {
      "cell_type": "code",
      "source": [
        "df.dropna(inplace=True)\n",
        "df.reset_index(inplace=True, drop=True)"
      ],
      "metadata": {
        "colab": {
          "base_uri": "https://localhost:8080/"
        },
        "id": "A_j8aovzc8dz",
        "outputId": "95cecefc-f572-4443-d334-5ae586fabe85"
      },
      "execution_count": 28,
      "outputs": [
        {
          "output_type": "stream",
          "name": "stderr",
          "text": [
            "/usr/local/lib/python3.8/dist-packages/pandas/util/_decorators.py:311: SettingWithCopyWarning: \n",
            "A value is trying to be set on a copy of a slice from a DataFrame\n",
            "\n",
            "See the caveats in the documentation: https://pandas.pydata.org/pandas-docs/stable/user_guide/indexing.html#returning-a-view-versus-a-copy\n",
            "  return func(*args, **kwargs)\n"
          ]
        }
      ]
    },
    {
      "cell_type": "markdown",
      "source": [
        "### Standardise data "
      ],
      "metadata": {
        "id": "rRZ-5jnrcxe5"
      }
    },
    {
      "cell_type": "markdown",
      "source": [
        "Now let us go through each object column to check its actual data and clean if required "
      ],
      "metadata": {
        "id": "6V7lPKYPA6KA"
      }
    },
    {
      "cell_type": "code",
      "source": [
        "df.head()"
      ],
      "metadata": {
        "colab": {
          "base_uri": "https://localhost:8080/",
          "height": 353
        },
        "id": "vsCpawWC7TbK",
        "outputId": "1ba63081-9d38-4d83-c995-44401560e4d5"
      },
      "execution_count": 29,
      "outputs": [
        {
          "output_type": "execute_result",
          "data": {
            "text/plain": [
              "   loan_amnt  funded_amnt  funded_amnt_inv        term int_rate  installment  \\\n",
              "0       5000         5000           4975.0   36 months   10.65%       162.87   \n",
              "1       2500         2500           2500.0   60 months   15.27%        59.83   \n",
              "2       2400         2400           2400.0   36 months   15.96%        84.33   \n",
              "3      10000        10000          10000.0   36 months   13.49%       339.31   \n",
              "4       5000         5000           5000.0   36 months    7.90%       156.46   \n",
              "\n",
              "  grade sub_grade emp_length home_ownership  annual_inc verification_status  \\\n",
              "0     B        B2  10+ years           RENT     24000.0            Verified   \n",
              "1     C        C4   < 1 year           RENT     30000.0     Source Verified   \n",
              "2     C        C5  10+ years           RENT     12252.0        Not Verified   \n",
              "3     C        C1  10+ years           RENT     49200.0     Source Verified   \n",
              "4     A        A4    3 years           RENT     36000.0     Source Verified   \n",
              "\n",
              "  issue_d  loan_status         purpose    dti  pub_rec_bankruptcies  \n",
              "0  Dec-11   Fully Paid     credit_card  27.65                   0.0  \n",
              "1  Dec-11  Charged Off             car   1.00                   0.0  \n",
              "2  Dec-11   Fully Paid  small_business   8.72                   0.0  \n",
              "3  Dec-11   Fully Paid           other  20.00                   0.0  \n",
              "4  Dec-11   Fully Paid         wedding  11.20                   0.0  "
            ],
            "text/html": [
              "\n",
              "  <div id=\"df-3f6003b5-7c49-4fc7-b6f0-19a36f4a7335\">\n",
              "    <div class=\"colab-df-container\">\n",
              "      <div>\n",
              "<style scoped>\n",
              "    .dataframe tbody tr th:only-of-type {\n",
              "        vertical-align: middle;\n",
              "    }\n",
              "\n",
              "    .dataframe tbody tr th {\n",
              "        vertical-align: top;\n",
              "    }\n",
              "\n",
              "    .dataframe thead th {\n",
              "        text-align: right;\n",
              "    }\n",
              "</style>\n",
              "<table border=\"1\" class=\"dataframe\">\n",
              "  <thead>\n",
              "    <tr style=\"text-align: right;\">\n",
              "      <th></th>\n",
              "      <th>loan_amnt</th>\n",
              "      <th>funded_amnt</th>\n",
              "      <th>funded_amnt_inv</th>\n",
              "      <th>term</th>\n",
              "      <th>int_rate</th>\n",
              "      <th>installment</th>\n",
              "      <th>grade</th>\n",
              "      <th>sub_grade</th>\n",
              "      <th>emp_length</th>\n",
              "      <th>home_ownership</th>\n",
              "      <th>annual_inc</th>\n",
              "      <th>verification_status</th>\n",
              "      <th>issue_d</th>\n",
              "      <th>loan_status</th>\n",
              "      <th>purpose</th>\n",
              "      <th>dti</th>\n",
              "      <th>pub_rec_bankruptcies</th>\n",
              "    </tr>\n",
              "  </thead>\n",
              "  <tbody>\n",
              "    <tr>\n",
              "      <th>0</th>\n",
              "      <td>5000</td>\n",
              "      <td>5000</td>\n",
              "      <td>4975.0</td>\n",
              "      <td>36 months</td>\n",
              "      <td>10.65%</td>\n",
              "      <td>162.87</td>\n",
              "      <td>B</td>\n",
              "      <td>B2</td>\n",
              "      <td>10+ years</td>\n",
              "      <td>RENT</td>\n",
              "      <td>24000.0</td>\n",
              "      <td>Verified</td>\n",
              "      <td>Dec-11</td>\n",
              "      <td>Fully Paid</td>\n",
              "      <td>credit_card</td>\n",
              "      <td>27.65</td>\n",
              "      <td>0.0</td>\n",
              "    </tr>\n",
              "    <tr>\n",
              "      <th>1</th>\n",
              "      <td>2500</td>\n",
              "      <td>2500</td>\n",
              "      <td>2500.0</td>\n",
              "      <td>60 months</td>\n",
              "      <td>15.27%</td>\n",
              "      <td>59.83</td>\n",
              "      <td>C</td>\n",
              "      <td>C4</td>\n",
              "      <td>&lt; 1 year</td>\n",
              "      <td>RENT</td>\n",
              "      <td>30000.0</td>\n",
              "      <td>Source Verified</td>\n",
              "      <td>Dec-11</td>\n",
              "      <td>Charged Off</td>\n",
              "      <td>car</td>\n",
              "      <td>1.00</td>\n",
              "      <td>0.0</td>\n",
              "    </tr>\n",
              "    <tr>\n",
              "      <th>2</th>\n",
              "      <td>2400</td>\n",
              "      <td>2400</td>\n",
              "      <td>2400.0</td>\n",
              "      <td>36 months</td>\n",
              "      <td>15.96%</td>\n",
              "      <td>84.33</td>\n",
              "      <td>C</td>\n",
              "      <td>C5</td>\n",
              "      <td>10+ years</td>\n",
              "      <td>RENT</td>\n",
              "      <td>12252.0</td>\n",
              "      <td>Not Verified</td>\n",
              "      <td>Dec-11</td>\n",
              "      <td>Fully Paid</td>\n",
              "      <td>small_business</td>\n",
              "      <td>8.72</td>\n",
              "      <td>0.0</td>\n",
              "    </tr>\n",
              "    <tr>\n",
              "      <th>3</th>\n",
              "      <td>10000</td>\n",
              "      <td>10000</td>\n",
              "      <td>10000.0</td>\n",
              "      <td>36 months</td>\n",
              "      <td>13.49%</td>\n",
              "      <td>339.31</td>\n",
              "      <td>C</td>\n",
              "      <td>C1</td>\n",
              "      <td>10+ years</td>\n",
              "      <td>RENT</td>\n",
              "      <td>49200.0</td>\n",
              "      <td>Source Verified</td>\n",
              "      <td>Dec-11</td>\n",
              "      <td>Fully Paid</td>\n",
              "      <td>other</td>\n",
              "      <td>20.00</td>\n",
              "      <td>0.0</td>\n",
              "    </tr>\n",
              "    <tr>\n",
              "      <th>4</th>\n",
              "      <td>5000</td>\n",
              "      <td>5000</td>\n",
              "      <td>5000.0</td>\n",
              "      <td>36 months</td>\n",
              "      <td>7.90%</td>\n",
              "      <td>156.46</td>\n",
              "      <td>A</td>\n",
              "      <td>A4</td>\n",
              "      <td>3 years</td>\n",
              "      <td>RENT</td>\n",
              "      <td>36000.0</td>\n",
              "      <td>Source Verified</td>\n",
              "      <td>Dec-11</td>\n",
              "      <td>Fully Paid</td>\n",
              "      <td>wedding</td>\n",
              "      <td>11.20</td>\n",
              "      <td>0.0</td>\n",
              "    </tr>\n",
              "  </tbody>\n",
              "</table>\n",
              "</div>\n",
              "      <button class=\"colab-df-convert\" onclick=\"convertToInteractive('df-3f6003b5-7c49-4fc7-b6f0-19a36f4a7335')\"\n",
              "              title=\"Convert this dataframe to an interactive table.\"\n",
              "              style=\"display:none;\">\n",
              "        \n",
              "  <svg xmlns=\"http://www.w3.org/2000/svg\" height=\"24px\"viewBox=\"0 0 24 24\"\n",
              "       width=\"24px\">\n",
              "    <path d=\"M0 0h24v24H0V0z\" fill=\"none\"/>\n",
              "    <path d=\"M18.56 5.44l.94 2.06.94-2.06 2.06-.94-2.06-.94-.94-2.06-.94 2.06-2.06.94zm-11 1L8.5 8.5l.94-2.06 2.06-.94-2.06-.94L8.5 2.5l-.94 2.06-2.06.94zm10 10l.94 2.06.94-2.06 2.06-.94-2.06-.94-.94-2.06-.94 2.06-2.06.94z\"/><path d=\"M17.41 7.96l-1.37-1.37c-.4-.4-.92-.59-1.43-.59-.52 0-1.04.2-1.43.59L10.3 9.45l-7.72 7.72c-.78.78-.78 2.05 0 2.83L4 21.41c.39.39.9.59 1.41.59.51 0 1.02-.2 1.41-.59l7.78-7.78 2.81-2.81c.8-.78.8-2.07 0-2.86zM5.41 20L4 18.59l7.72-7.72 1.47 1.35L5.41 20z\"/>\n",
              "  </svg>\n",
              "      </button>\n",
              "      \n",
              "  <style>\n",
              "    .colab-df-container {\n",
              "      display:flex;\n",
              "      flex-wrap:wrap;\n",
              "      gap: 12px;\n",
              "    }\n",
              "\n",
              "    .colab-df-convert {\n",
              "      background-color: #E8F0FE;\n",
              "      border: none;\n",
              "      border-radius: 50%;\n",
              "      cursor: pointer;\n",
              "      display: none;\n",
              "      fill: #1967D2;\n",
              "      height: 32px;\n",
              "      padding: 0 0 0 0;\n",
              "      width: 32px;\n",
              "    }\n",
              "\n",
              "    .colab-df-convert:hover {\n",
              "      background-color: #E2EBFA;\n",
              "      box-shadow: 0px 1px 2px rgba(60, 64, 67, 0.3), 0px 1px 3px 1px rgba(60, 64, 67, 0.15);\n",
              "      fill: #174EA6;\n",
              "    }\n",
              "\n",
              "    [theme=dark] .colab-df-convert {\n",
              "      background-color: #3B4455;\n",
              "      fill: #D2E3FC;\n",
              "    }\n",
              "\n",
              "    [theme=dark] .colab-df-convert:hover {\n",
              "      background-color: #434B5C;\n",
              "      box-shadow: 0px 1px 3px 1px rgba(0, 0, 0, 0.15);\n",
              "      filter: drop-shadow(0px 1px 2px rgba(0, 0, 0, 0.3));\n",
              "      fill: #FFFFFF;\n",
              "    }\n",
              "  </style>\n",
              "\n",
              "      <script>\n",
              "        const buttonEl =\n",
              "          document.querySelector('#df-3f6003b5-7c49-4fc7-b6f0-19a36f4a7335 button.colab-df-convert');\n",
              "        buttonEl.style.display =\n",
              "          google.colab.kernel.accessAllowed ? 'block' : 'none';\n",
              "\n",
              "        async function convertToInteractive(key) {\n",
              "          const element = document.querySelector('#df-3f6003b5-7c49-4fc7-b6f0-19a36f4a7335');\n",
              "          const dataTable =\n",
              "            await google.colab.kernel.invokeFunction('convertToInteractive',\n",
              "                                                     [key], {});\n",
              "          if (!dataTable) return;\n",
              "\n",
              "          const docLinkHtml = 'Like what you see? Visit the ' +\n",
              "            '<a target=\"_blank\" href=https://colab.research.google.com/notebooks/data_table.ipynb>data table notebook</a>'\n",
              "            + ' to learn more about interactive tables.';\n",
              "          element.innerHTML = '';\n",
              "          dataTable['output_type'] = 'display_data';\n",
              "          await google.colab.output.renderOutput(dataTable, element);\n",
              "          const docLink = document.createElement('div');\n",
              "          docLink.innerHTML = docLinkHtml;\n",
              "          element.appendChild(docLink);\n",
              "        }\n",
              "      </script>\n",
              "    </div>\n",
              "  </div>\n",
              "  "
            ]
          },
          "metadata": {},
          "execution_count": 29
        }
      ]
    },
    {
      "cell_type": "markdown",
      "source": [
        "- Term has only 2 unique values i.e. 36 months and 60 months we can remove the months suffix later on if required. \n",
        "- For now we can clean `int_rate`, `emp_length`, and `issue_d` as required.\n",
        "- We can also convert `annual_inc` into lakhs."
      ],
      "metadata": {
        "id": "eDPVCjLUCsBu"
      }
    },
    {
      "cell_type": "code",
      "source": [
        "df['int_rate'] = df['int_rate'].dropna().apply(lambda x: float(re.sub(r'[^.\\d]', '', x)))"
      ],
      "metadata": {
        "id": "xbA-NMYLLjZb"
      },
      "execution_count": 30,
      "outputs": []
    },
    {
      "cell_type": "code",
      "source": [
        "df['emp_length'].unique()"
      ],
      "metadata": {
        "colab": {
          "base_uri": "https://localhost:8080/"
        },
        "id": "9XXOLJWJCJdS",
        "outputId": "174d2add-08fd-4198-ec1f-f68555a1cab9"
      },
      "execution_count": 31,
      "outputs": [
        {
          "output_type": "execute_result",
          "data": {
            "text/plain": [
              "array(['10+ years', '< 1 year', '3 years', '8 years', '9 years',\n",
              "       '4 years', '5 years', '1 year', '6 years', '2 years', '7 years'],\n",
              "      dtype=object)"
            ]
          },
          "metadata": {},
          "execution_count": 31
        }
      ]
    },
    {
      "cell_type": "markdown",
      "source": [
        "Let us assume that \\< 1 year as 0 and 10+ years as 10\n",
        "We will extract the first two characters and typecast into int except for \\< 1 year"
      ],
      "metadata": {
        "id": "BDjIaWxKyn2F"
      }
    },
    {
      "cell_type": "code",
      "source": [
        "df['emp_length'] = df['emp_length'].dropna().apply(lambda x: 0 if x == '< 1 year' else int(re.sub(r'\\D', '', x)))"
      ],
      "metadata": {
        "id": "nxufAynwpYfy"
      },
      "execution_count": 32,
      "outputs": []
    },
    {
      "cell_type": "markdown",
      "source": [
        "We need only month for our analysis, let us keep only month and set its column type as category. "
      ],
      "metadata": {
        "id": "3fOaoL2wY0qL"
      }
    },
    {
      "cell_type": "code",
      "source": [
        "df['issue_d'] = df['issue_d'].dropna().apply(lambda x: dt.strptime(x, '%b-%y')).dt.month"
      ],
      "metadata": {
        "id": "uY1ebHGbESUv"
      },
      "execution_count": 33,
      "outputs": []
    },
    {
      "cell_type": "code",
      "source": [
        "df['issue_d'] = df['issue_d'].astype('category')"
      ],
      "metadata": {
        "id": "r_8fWdB6ZlQX"
      },
      "execution_count": 34,
      "outputs": []
    },
    {
      "cell_type": "code",
      "source": [
        "df['annual_inc'] = df['annual_inc'] / 1000"
      ],
      "metadata": {
        "id": "IyxDVmT-v9iJ"
      },
      "execution_count": 35,
      "outputs": []
    },
    {
      "cell_type": "code",
      "source": [
        "df.info()"
      ],
      "metadata": {
        "colab": {
          "base_uri": "https://localhost:8080/"
        },
        "id": "34OVmE2v_7ye",
        "outputId": "a233c572-d6e9-4296-b7a1-4f52d3c7c43c"
      },
      "execution_count": 36,
      "outputs": [
        {
          "output_type": "stream",
          "name": "stdout",
          "text": [
            "<class 'pandas.core.frame.DataFrame'>\n",
            "RangeIndex: 36847 entries, 0 to 36846\n",
            "Data columns (total 17 columns):\n",
            " #   Column                Non-Null Count  Dtype   \n",
            "---  ------                --------------  -----   \n",
            " 0   loan_amnt             36847 non-null  int64   \n",
            " 1   funded_amnt           36847 non-null  int64   \n",
            " 2   funded_amnt_inv       36847 non-null  float64 \n",
            " 3   term                  36847 non-null  object  \n",
            " 4   int_rate              36847 non-null  float64 \n",
            " 5   installment           36847 non-null  float64 \n",
            " 6   grade                 36847 non-null  object  \n",
            " 7   sub_grade             36847 non-null  object  \n",
            " 8   emp_length            36847 non-null  int64   \n",
            " 9   home_ownership        36847 non-null  object  \n",
            " 10  annual_inc            36847 non-null  float64 \n",
            " 11  verification_status   36847 non-null  object  \n",
            " 12  issue_d               36847 non-null  category\n",
            " 13  loan_status           36847 non-null  object  \n",
            " 14  purpose               36847 non-null  object  \n",
            " 15  dti                   36847 non-null  float64 \n",
            " 16  pub_rec_bankruptcies  36847 non-null  float64 \n",
            "dtypes: category(1), float64(6), int64(3), object(7)\n",
            "memory usage: 4.5+ MB\n"
          ]
        }
      ]
    },
    {
      "cell_type": "markdown",
      "source": [
        "`pub_rec_bankruptcies` should be of type int64 but is being represented as float64. This could be because it had null values"
      ],
      "metadata": {
        "id": "L3DMXqPIduWh"
      }
    },
    {
      "cell_type": "code",
      "source": [
        "df['pub_rec_bankruptcies'] = df['pub_rec_bankruptcies'].astype('int64')"
      ],
      "metadata": {
        "id": "ih_eDzTFd7A9"
      },
      "execution_count": 37,
      "outputs": []
    },
    {
      "cell_type": "markdown",
      "source": [
        "Let us see how dataframe look like now"
      ],
      "metadata": {
        "id": "XrIpMnu4eS5U"
      }
    },
    {
      "cell_type": "code",
      "source": [
        "df.head()"
      ],
      "metadata": {
        "colab": {
          "base_uri": "https://localhost:8080/",
          "height": 353
        },
        "id": "EKW6BoeheWef",
        "outputId": "7265a0e7-b558-4b77-e4d3-0279378b6d32"
      },
      "execution_count": 38,
      "outputs": [
        {
          "output_type": "execute_result",
          "data": {
            "text/plain": [
              "   loan_amnt  funded_amnt  funded_amnt_inv        term  int_rate  installment  \\\n",
              "0       5000         5000           4975.0   36 months     10.65       162.87   \n",
              "1       2500         2500           2500.0   60 months     15.27        59.83   \n",
              "2       2400         2400           2400.0   36 months     15.96        84.33   \n",
              "3      10000        10000          10000.0   36 months     13.49       339.31   \n",
              "4       5000         5000           5000.0   36 months      7.90       156.46   \n",
              "\n",
              "  grade sub_grade  emp_length home_ownership  annual_inc verification_status  \\\n",
              "0     B        B2          10           RENT      24.000            Verified   \n",
              "1     C        C4           0           RENT      30.000     Source Verified   \n",
              "2     C        C5          10           RENT      12.252        Not Verified   \n",
              "3     C        C1          10           RENT      49.200     Source Verified   \n",
              "4     A        A4           3           RENT      36.000     Source Verified   \n",
              "\n",
              "  issue_d  loan_status         purpose    dti  pub_rec_bankruptcies  \n",
              "0      12   Fully Paid     credit_card  27.65                     0  \n",
              "1      12  Charged Off             car   1.00                     0  \n",
              "2      12   Fully Paid  small_business   8.72                     0  \n",
              "3      12   Fully Paid           other  20.00                     0  \n",
              "4      12   Fully Paid         wedding  11.20                     0  "
            ],
            "text/html": [
              "\n",
              "  <div id=\"df-10298838-95f9-4116-8b3c-69842f151970\">\n",
              "    <div class=\"colab-df-container\">\n",
              "      <div>\n",
              "<style scoped>\n",
              "    .dataframe tbody tr th:only-of-type {\n",
              "        vertical-align: middle;\n",
              "    }\n",
              "\n",
              "    .dataframe tbody tr th {\n",
              "        vertical-align: top;\n",
              "    }\n",
              "\n",
              "    .dataframe thead th {\n",
              "        text-align: right;\n",
              "    }\n",
              "</style>\n",
              "<table border=\"1\" class=\"dataframe\">\n",
              "  <thead>\n",
              "    <tr style=\"text-align: right;\">\n",
              "      <th></th>\n",
              "      <th>loan_amnt</th>\n",
              "      <th>funded_amnt</th>\n",
              "      <th>funded_amnt_inv</th>\n",
              "      <th>term</th>\n",
              "      <th>int_rate</th>\n",
              "      <th>installment</th>\n",
              "      <th>grade</th>\n",
              "      <th>sub_grade</th>\n",
              "      <th>emp_length</th>\n",
              "      <th>home_ownership</th>\n",
              "      <th>annual_inc</th>\n",
              "      <th>verification_status</th>\n",
              "      <th>issue_d</th>\n",
              "      <th>loan_status</th>\n",
              "      <th>purpose</th>\n",
              "      <th>dti</th>\n",
              "      <th>pub_rec_bankruptcies</th>\n",
              "    </tr>\n",
              "  </thead>\n",
              "  <tbody>\n",
              "    <tr>\n",
              "      <th>0</th>\n",
              "      <td>5000</td>\n",
              "      <td>5000</td>\n",
              "      <td>4975.0</td>\n",
              "      <td>36 months</td>\n",
              "      <td>10.65</td>\n",
              "      <td>162.87</td>\n",
              "      <td>B</td>\n",
              "      <td>B2</td>\n",
              "      <td>10</td>\n",
              "      <td>RENT</td>\n",
              "      <td>24.000</td>\n",
              "      <td>Verified</td>\n",
              "      <td>12</td>\n",
              "      <td>Fully Paid</td>\n",
              "      <td>credit_card</td>\n",
              "      <td>27.65</td>\n",
              "      <td>0</td>\n",
              "    </tr>\n",
              "    <tr>\n",
              "      <th>1</th>\n",
              "      <td>2500</td>\n",
              "      <td>2500</td>\n",
              "      <td>2500.0</td>\n",
              "      <td>60 months</td>\n",
              "      <td>15.27</td>\n",
              "      <td>59.83</td>\n",
              "      <td>C</td>\n",
              "      <td>C4</td>\n",
              "      <td>0</td>\n",
              "      <td>RENT</td>\n",
              "      <td>30.000</td>\n",
              "      <td>Source Verified</td>\n",
              "      <td>12</td>\n",
              "      <td>Charged Off</td>\n",
              "      <td>car</td>\n",
              "      <td>1.00</td>\n",
              "      <td>0</td>\n",
              "    </tr>\n",
              "    <tr>\n",
              "      <th>2</th>\n",
              "      <td>2400</td>\n",
              "      <td>2400</td>\n",
              "      <td>2400.0</td>\n",
              "      <td>36 months</td>\n",
              "      <td>15.96</td>\n",
              "      <td>84.33</td>\n",
              "      <td>C</td>\n",
              "      <td>C5</td>\n",
              "      <td>10</td>\n",
              "      <td>RENT</td>\n",
              "      <td>12.252</td>\n",
              "      <td>Not Verified</td>\n",
              "      <td>12</td>\n",
              "      <td>Fully Paid</td>\n",
              "      <td>small_business</td>\n",
              "      <td>8.72</td>\n",
              "      <td>0</td>\n",
              "    </tr>\n",
              "    <tr>\n",
              "      <th>3</th>\n",
              "      <td>10000</td>\n",
              "      <td>10000</td>\n",
              "      <td>10000.0</td>\n",
              "      <td>36 months</td>\n",
              "      <td>13.49</td>\n",
              "      <td>339.31</td>\n",
              "      <td>C</td>\n",
              "      <td>C1</td>\n",
              "      <td>10</td>\n",
              "      <td>RENT</td>\n",
              "      <td>49.200</td>\n",
              "      <td>Source Verified</td>\n",
              "      <td>12</td>\n",
              "      <td>Fully Paid</td>\n",
              "      <td>other</td>\n",
              "      <td>20.00</td>\n",
              "      <td>0</td>\n",
              "    </tr>\n",
              "    <tr>\n",
              "      <th>4</th>\n",
              "      <td>5000</td>\n",
              "      <td>5000</td>\n",
              "      <td>5000.0</td>\n",
              "      <td>36 months</td>\n",
              "      <td>7.90</td>\n",
              "      <td>156.46</td>\n",
              "      <td>A</td>\n",
              "      <td>A4</td>\n",
              "      <td>3</td>\n",
              "      <td>RENT</td>\n",
              "      <td>36.000</td>\n",
              "      <td>Source Verified</td>\n",
              "      <td>12</td>\n",
              "      <td>Fully Paid</td>\n",
              "      <td>wedding</td>\n",
              "      <td>11.20</td>\n",
              "      <td>0</td>\n",
              "    </tr>\n",
              "  </tbody>\n",
              "</table>\n",
              "</div>\n",
              "      <button class=\"colab-df-convert\" onclick=\"convertToInteractive('df-10298838-95f9-4116-8b3c-69842f151970')\"\n",
              "              title=\"Convert this dataframe to an interactive table.\"\n",
              "              style=\"display:none;\">\n",
              "        \n",
              "  <svg xmlns=\"http://www.w3.org/2000/svg\" height=\"24px\"viewBox=\"0 0 24 24\"\n",
              "       width=\"24px\">\n",
              "    <path d=\"M0 0h24v24H0V0z\" fill=\"none\"/>\n",
              "    <path d=\"M18.56 5.44l.94 2.06.94-2.06 2.06-.94-2.06-.94-.94-2.06-.94 2.06-2.06.94zm-11 1L8.5 8.5l.94-2.06 2.06-.94-2.06-.94L8.5 2.5l-.94 2.06-2.06.94zm10 10l.94 2.06.94-2.06 2.06-.94-2.06-.94-.94-2.06-.94 2.06-2.06.94z\"/><path d=\"M17.41 7.96l-1.37-1.37c-.4-.4-.92-.59-1.43-.59-.52 0-1.04.2-1.43.59L10.3 9.45l-7.72 7.72c-.78.78-.78 2.05 0 2.83L4 21.41c.39.39.9.59 1.41.59.51 0 1.02-.2 1.41-.59l7.78-7.78 2.81-2.81c.8-.78.8-2.07 0-2.86zM5.41 20L4 18.59l7.72-7.72 1.47 1.35L5.41 20z\"/>\n",
              "  </svg>\n",
              "      </button>\n",
              "      \n",
              "  <style>\n",
              "    .colab-df-container {\n",
              "      display:flex;\n",
              "      flex-wrap:wrap;\n",
              "      gap: 12px;\n",
              "    }\n",
              "\n",
              "    .colab-df-convert {\n",
              "      background-color: #E8F0FE;\n",
              "      border: none;\n",
              "      border-radius: 50%;\n",
              "      cursor: pointer;\n",
              "      display: none;\n",
              "      fill: #1967D2;\n",
              "      height: 32px;\n",
              "      padding: 0 0 0 0;\n",
              "      width: 32px;\n",
              "    }\n",
              "\n",
              "    .colab-df-convert:hover {\n",
              "      background-color: #E2EBFA;\n",
              "      box-shadow: 0px 1px 2px rgba(60, 64, 67, 0.3), 0px 1px 3px 1px rgba(60, 64, 67, 0.15);\n",
              "      fill: #174EA6;\n",
              "    }\n",
              "\n",
              "    [theme=dark] .colab-df-convert {\n",
              "      background-color: #3B4455;\n",
              "      fill: #D2E3FC;\n",
              "    }\n",
              "\n",
              "    [theme=dark] .colab-df-convert:hover {\n",
              "      background-color: #434B5C;\n",
              "      box-shadow: 0px 1px 3px 1px rgba(0, 0, 0, 0.15);\n",
              "      filter: drop-shadow(0px 1px 2px rgba(0, 0, 0, 0.3));\n",
              "      fill: #FFFFFF;\n",
              "    }\n",
              "  </style>\n",
              "\n",
              "      <script>\n",
              "        const buttonEl =\n",
              "          document.querySelector('#df-10298838-95f9-4116-8b3c-69842f151970 button.colab-df-convert');\n",
              "        buttonEl.style.display =\n",
              "          google.colab.kernel.accessAllowed ? 'block' : 'none';\n",
              "\n",
              "        async function convertToInteractive(key) {\n",
              "          const element = document.querySelector('#df-10298838-95f9-4116-8b3c-69842f151970');\n",
              "          const dataTable =\n",
              "            await google.colab.kernel.invokeFunction('convertToInteractive',\n",
              "                                                     [key], {});\n",
              "          if (!dataTable) return;\n",
              "\n",
              "          const docLinkHtml = 'Like what you see? Visit the ' +\n",
              "            '<a target=\"_blank\" href=https://colab.research.google.com/notebooks/data_table.ipynb>data table notebook</a>'\n",
              "            + ' to learn more about interactive tables.';\n",
              "          element.innerHTML = '';\n",
              "          dataTable['output_type'] = 'display_data';\n",
              "          await google.colab.output.renderOutput(dataTable, element);\n",
              "          const docLink = document.createElement('div');\n",
              "          docLink.innerHTML = docLinkHtml;\n",
              "          element.appendChild(docLink);\n",
              "        }\n",
              "      </script>\n",
              "    </div>\n",
              "  </div>\n",
              "  "
            ]
          },
          "metadata": {},
          "execution_count": 38
        }
      ]
    },
    {
      "cell_type": "markdown",
      "source": [
        "All the remaining columns of type object are categorical variables here "
      ],
      "metadata": {
        "id": "RB8X9fowT984"
      }
    },
    {
      "cell_type": "markdown",
      "source": [
        "Since `emp_length` and `pub_rec_bankruptcies` will have values from only a set of values we can consider these are categorical variables"
      ],
      "metadata": {
        "id": "2az2PDHBcRR_"
      }
    },
    {
      "cell_type": "code",
      "source": [
        "categorical_columns = df.select_dtypes(include=[object]).columns.tolist()"
      ],
      "metadata": {
        "id": "TwwmRSLHSHY-"
      },
      "execution_count": 39,
      "outputs": []
    },
    {
      "cell_type": "code",
      "source": [
        "categorical_columns += ['emp_length', 'pub_rec_bankruptcies']"
      ],
      "metadata": {
        "id": "q2LGgHl1e1XV"
      },
      "execution_count": 40,
      "outputs": []
    },
    {
      "cell_type": "code",
      "source": [
        "df[categorical_columns] = df[categorical_columns].astype('category')"
      ],
      "metadata": {
        "id": "I9lvd0IFcPtr"
      },
      "execution_count": 41,
      "outputs": []
    },
    {
      "cell_type": "code",
      "source": [
        "categorical_columns.remove('loan_status')"
      ],
      "metadata": {
        "id": "XpET7QXsxwxi"
      },
      "execution_count": 42,
      "outputs": []
    },
    {
      "cell_type": "code",
      "source": [
        "numerical_columns = df.select_dtypes(include=[int, float]).columns.tolist()"
      ],
      "metadata": {
        "id": "CkGQmGY-rnwV"
      },
      "execution_count": 43,
      "outputs": []
    },
    {
      "cell_type": "code",
      "source": [
        "data_dict = data_dict[data_dict['Name'].isin(df.columns)]\n",
        "data_dict.reset_index(inplace=True, drop=True)"
      ],
      "metadata": {
        "id": "RIWx570ZQSuK"
      },
      "execution_count": 44,
      "outputs": []
    },
    {
      "cell_type": "code",
      "source": [
        "df.describe(percentiles=[0.05, .95])"
      ],
      "metadata": {
        "colab": {
          "base_uri": "https://localhost:8080/",
          "height": 297
        },
        "id": "8TFX75LIe-Cy",
        "outputId": "a662e9ff-9e27-4f1d-ac80-2a3624ff95ae"
      },
      "execution_count": 45,
      "outputs": [
        {
          "output_type": "execute_result",
          "data": {
            "text/plain": [
              "          loan_amnt   funded_amnt  funded_amnt_inv      int_rate  \\\n",
              "count  36847.000000  36847.000000     36847.000000  36847.000000   \n",
              "mean   11141.327652  10872.924526     10430.400856     11.988346   \n",
              "std     7369.988994   7109.330771      7008.919431      3.702091   \n",
              "min      500.000000    500.000000         0.000000      5.420000   \n",
              "5%      2400.000000   2400.000000      2000.000000      6.170000   \n",
              "50%    10000.000000   9600.000000      9000.000000     11.860000   \n",
              "95%    25000.000000  25000.000000     24643.267336     18.390000   \n",
              "max    35000.000000  35000.000000     35000.000000     24.400000   \n",
              "\n",
              "        installment    annual_inc           dti  \n",
              "count  36847.000000  36847.000000  36847.000000  \n",
              "mean     324.694599     69.404482     13.330449  \n",
              "std      208.886154     64.027473      6.651565  \n",
              "min       16.080000      4.000000      0.000000  \n",
              "5%        72.790000     24.000000      2.180000  \n",
              "50%      280.000000     60.000000     13.420000  \n",
              "95%      763.111000    141.998800     23.810000  \n",
              "max     1305.190000   6000.000000     29.990000  "
            ],
            "text/html": [
              "\n",
              "  <div id=\"df-a81e04a3-9db6-4391-993f-f8e4f83bb46b\">\n",
              "    <div class=\"colab-df-container\">\n",
              "      <div>\n",
              "<style scoped>\n",
              "    .dataframe tbody tr th:only-of-type {\n",
              "        vertical-align: middle;\n",
              "    }\n",
              "\n",
              "    .dataframe tbody tr th {\n",
              "        vertical-align: top;\n",
              "    }\n",
              "\n",
              "    .dataframe thead th {\n",
              "        text-align: right;\n",
              "    }\n",
              "</style>\n",
              "<table border=\"1\" class=\"dataframe\">\n",
              "  <thead>\n",
              "    <tr style=\"text-align: right;\">\n",
              "      <th></th>\n",
              "      <th>loan_amnt</th>\n",
              "      <th>funded_amnt</th>\n",
              "      <th>funded_amnt_inv</th>\n",
              "      <th>int_rate</th>\n",
              "      <th>installment</th>\n",
              "      <th>annual_inc</th>\n",
              "      <th>dti</th>\n",
              "    </tr>\n",
              "  </thead>\n",
              "  <tbody>\n",
              "    <tr>\n",
              "      <th>count</th>\n",
              "      <td>36847.000000</td>\n",
              "      <td>36847.000000</td>\n",
              "      <td>36847.000000</td>\n",
              "      <td>36847.000000</td>\n",
              "      <td>36847.000000</td>\n",
              "      <td>36847.000000</td>\n",
              "      <td>36847.000000</td>\n",
              "    </tr>\n",
              "    <tr>\n",
              "      <th>mean</th>\n",
              "      <td>11141.327652</td>\n",
              "      <td>10872.924526</td>\n",
              "      <td>10430.400856</td>\n",
              "      <td>11.988346</td>\n",
              "      <td>324.694599</td>\n",
              "      <td>69.404482</td>\n",
              "      <td>13.330449</td>\n",
              "    </tr>\n",
              "    <tr>\n",
              "      <th>std</th>\n",
              "      <td>7369.988994</td>\n",
              "      <td>7109.330771</td>\n",
              "      <td>7008.919431</td>\n",
              "      <td>3.702091</td>\n",
              "      <td>208.886154</td>\n",
              "      <td>64.027473</td>\n",
              "      <td>6.651565</td>\n",
              "    </tr>\n",
              "    <tr>\n",
              "      <th>min</th>\n",
              "      <td>500.000000</td>\n",
              "      <td>500.000000</td>\n",
              "      <td>0.000000</td>\n",
              "      <td>5.420000</td>\n",
              "      <td>16.080000</td>\n",
              "      <td>4.000000</td>\n",
              "      <td>0.000000</td>\n",
              "    </tr>\n",
              "    <tr>\n",
              "      <th>5%</th>\n",
              "      <td>2400.000000</td>\n",
              "      <td>2400.000000</td>\n",
              "      <td>2000.000000</td>\n",
              "      <td>6.170000</td>\n",
              "      <td>72.790000</td>\n",
              "      <td>24.000000</td>\n",
              "      <td>2.180000</td>\n",
              "    </tr>\n",
              "    <tr>\n",
              "      <th>50%</th>\n",
              "      <td>10000.000000</td>\n",
              "      <td>9600.000000</td>\n",
              "      <td>9000.000000</td>\n",
              "      <td>11.860000</td>\n",
              "      <td>280.000000</td>\n",
              "      <td>60.000000</td>\n",
              "      <td>13.420000</td>\n",
              "    </tr>\n",
              "    <tr>\n",
              "      <th>95%</th>\n",
              "      <td>25000.000000</td>\n",
              "      <td>25000.000000</td>\n",
              "      <td>24643.267336</td>\n",
              "      <td>18.390000</td>\n",
              "      <td>763.111000</td>\n",
              "      <td>141.998800</td>\n",
              "      <td>23.810000</td>\n",
              "    </tr>\n",
              "    <tr>\n",
              "      <th>max</th>\n",
              "      <td>35000.000000</td>\n",
              "      <td>35000.000000</td>\n",
              "      <td>35000.000000</td>\n",
              "      <td>24.400000</td>\n",
              "      <td>1305.190000</td>\n",
              "      <td>6000.000000</td>\n",
              "      <td>29.990000</td>\n",
              "    </tr>\n",
              "  </tbody>\n",
              "</table>\n",
              "</div>\n",
              "      <button class=\"colab-df-convert\" onclick=\"convertToInteractive('df-a81e04a3-9db6-4391-993f-f8e4f83bb46b')\"\n",
              "              title=\"Convert this dataframe to an interactive table.\"\n",
              "              style=\"display:none;\">\n",
              "        \n",
              "  <svg xmlns=\"http://www.w3.org/2000/svg\" height=\"24px\"viewBox=\"0 0 24 24\"\n",
              "       width=\"24px\">\n",
              "    <path d=\"M0 0h24v24H0V0z\" fill=\"none\"/>\n",
              "    <path d=\"M18.56 5.44l.94 2.06.94-2.06 2.06-.94-2.06-.94-.94-2.06-.94 2.06-2.06.94zm-11 1L8.5 8.5l.94-2.06 2.06-.94-2.06-.94L8.5 2.5l-.94 2.06-2.06.94zm10 10l.94 2.06.94-2.06 2.06-.94-2.06-.94-.94-2.06-.94 2.06-2.06.94z\"/><path d=\"M17.41 7.96l-1.37-1.37c-.4-.4-.92-.59-1.43-.59-.52 0-1.04.2-1.43.59L10.3 9.45l-7.72 7.72c-.78.78-.78 2.05 0 2.83L4 21.41c.39.39.9.59 1.41.59.51 0 1.02-.2 1.41-.59l7.78-7.78 2.81-2.81c.8-.78.8-2.07 0-2.86zM5.41 20L4 18.59l7.72-7.72 1.47 1.35L5.41 20z\"/>\n",
              "  </svg>\n",
              "      </button>\n",
              "      \n",
              "  <style>\n",
              "    .colab-df-container {\n",
              "      display:flex;\n",
              "      flex-wrap:wrap;\n",
              "      gap: 12px;\n",
              "    }\n",
              "\n",
              "    .colab-df-convert {\n",
              "      background-color: #E8F0FE;\n",
              "      border: none;\n",
              "      border-radius: 50%;\n",
              "      cursor: pointer;\n",
              "      display: none;\n",
              "      fill: #1967D2;\n",
              "      height: 32px;\n",
              "      padding: 0 0 0 0;\n",
              "      width: 32px;\n",
              "    }\n",
              "\n",
              "    .colab-df-convert:hover {\n",
              "      background-color: #E2EBFA;\n",
              "      box-shadow: 0px 1px 2px rgba(60, 64, 67, 0.3), 0px 1px 3px 1px rgba(60, 64, 67, 0.15);\n",
              "      fill: #174EA6;\n",
              "    }\n",
              "\n",
              "    [theme=dark] .colab-df-convert {\n",
              "      background-color: #3B4455;\n",
              "      fill: #D2E3FC;\n",
              "    }\n",
              "\n",
              "    [theme=dark] .colab-df-convert:hover {\n",
              "      background-color: #434B5C;\n",
              "      box-shadow: 0px 1px 3px 1px rgba(0, 0, 0, 0.15);\n",
              "      filter: drop-shadow(0px 1px 2px rgba(0, 0, 0, 0.3));\n",
              "      fill: #FFFFFF;\n",
              "    }\n",
              "  </style>\n",
              "\n",
              "      <script>\n",
              "        const buttonEl =\n",
              "          document.querySelector('#df-a81e04a3-9db6-4391-993f-f8e4f83bb46b button.colab-df-convert');\n",
              "        buttonEl.style.display =\n",
              "          google.colab.kernel.accessAllowed ? 'block' : 'none';\n",
              "\n",
              "        async function convertToInteractive(key) {\n",
              "          const element = document.querySelector('#df-a81e04a3-9db6-4391-993f-f8e4f83bb46b');\n",
              "          const dataTable =\n",
              "            await google.colab.kernel.invokeFunction('convertToInteractive',\n",
              "                                                     [key], {});\n",
              "          if (!dataTable) return;\n",
              "\n",
              "          const docLinkHtml = 'Like what you see? Visit the ' +\n",
              "            '<a target=\"_blank\" href=https://colab.research.google.com/notebooks/data_table.ipynb>data table notebook</a>'\n",
              "            + ' to learn more about interactive tables.';\n",
              "          element.innerHTML = '';\n",
              "          dataTable['output_type'] = 'display_data';\n",
              "          await google.colab.output.renderOutput(dataTable, element);\n",
              "          const docLink = document.createElement('div');\n",
              "          docLink.innerHTML = docLinkHtml;\n",
              "          element.appendChild(docLink);\n",
              "        }\n",
              "      </script>\n",
              "    </div>\n",
              "  </div>\n",
              "  "
            ]
          },
          "metadata": {},
          "execution_count": 45
        }
      ]
    },
    {
      "cell_type": "markdown",
      "source": [
        "### Handle outliers"
      ],
      "metadata": {
        "id": "y6byb25S6Wij"
      }
    },
    {
      "cell_type": "markdown",
      "source": [
        "We can see that `annual_inc` has a few outliers. Let us see this in detail using a scatter plot."
      ],
      "metadata": {
        "id": "MrdiUouM6aMF"
      }
    },
    {
      "cell_type": "code",
      "source": [
        "sns.boxplot(y=df['annual_inc'])\n",
        "plt.title(f\"Box Plot for Annual Income\")\n",
        "plt.xlabel('Count')\n",
        "plt.ylabel('Annual Income (in Lakhs)')\n",
        "plt.show()"
      ],
      "metadata": {
        "colab": {
          "base_uri": "https://localhost:8080/",
          "height": 285
        },
        "id": "apWvuMj16nsh",
        "outputId": "aab2b6c9-2964-4046-df41-9f4808bc20bf"
      },
      "execution_count": 46,
      "outputs": [
        {
          "output_type": "display_data",
          "data": {
            "text/plain": [
              "<Figure size 432x288 with 1 Axes>"
            ],
            "image/png": "[encoded data removed]"
          },
          "metadata": {
            "needs_background": "light"
          }
        }
      ]
    },
    {
      "cell_type": "markdown",
      "source": [
        "This has a very few outliers at the top. We can drop the ones that have more than 3000 lakhs of annual income"
      ],
      "metadata": {
        "id": "7dQbpshI7rEM"
      }
    },
    {
      "cell_type": "code",
      "source": [
        "df = df[df['annual_inc']<3000]"
      ],
      "metadata": {
        "id": "sIFdU4NU7kNH"
      },
      "execution_count": 47,
      "outputs": []
    },
    {
      "cell_type": "markdown",
      "metadata": {
        "id": "o8k7hyEX_x8p"
      },
      "source": [
        "## Step 3. Data Analysis"
      ]
    },
    {
      "cell_type": "code",
      "source": [
        "data_dict"
      ],
      "metadata": {
        "colab": {
          "base_uri": "https://localhost:8080/",
          "height": 576
        },
        "id": "NG65B4lcwi-w",
        "outputId": "fd583dd2-b0ce-4fd1-bdbf-018db7803437"
      },
      "execution_count": 48,
      "outputs": [
        {
          "output_type": "execute_result",
          "data": {
            "text/plain": [
              "                    Name                                        Description\n",
              "0             annual_inc  The self-reported annual income provided by th...\n",
              "1                    dti  A ratio calculated using the borrower’s total ...\n",
              "2             emp_length  Employment length in years. Possible values ar...\n",
              "3            funded_amnt  The total amount committed to that loan at tha...\n",
              "4        funded_amnt_inv  The total amount committed by investors for th...\n",
              "5                  grade                             LC assigned loan grade\n",
              "6         home_ownership  The home ownership status provided by the borr...\n",
              "7            installment  The monthly payment owed by the borrower if th...\n",
              "8               int_rate                          Interest Rate on the loan\n",
              "9                issue_d                The month which the loan was funded\n",
              "10             loan_amnt  The listed amount of the loan applied for by t...\n",
              "11           loan_status                         Current status of the loan\n",
              "12  pub_rec_bankruptcies               Number of public record bankruptcies\n",
              "13               purpose  A category provided by the borrower for the lo...\n",
              "14             sub_grade                          LC assigned loan subgrade\n",
              "15                  term  The number of payments on the loan. Values are...\n",
              "16   verification_status  Indicates if income was verified by LC, not ve..."
            ],
            "text/html": [
              "\n",
              "  <div id=\"df-bfca83f5-f3a3-4baf-8a66-a5b384217d03\">\n",
              "    <div class=\"colab-df-container\">\n",
              "      <div>\n",
              "<style scoped>\n",
              "    .dataframe tbody tr th:only-of-type {\n",
              "        vertical-align: middle;\n",
              "    }\n",
              "\n",
              "    .dataframe tbody tr th {\n",
              "        vertical-align: top;\n",
              "    }\n",
              "\n",
              "    .dataframe thead th {\n",
              "        text-align: right;\n",
              "    }\n",
              "</style>\n",
              "<table border=\"1\" class=\"dataframe\">\n",
              "  <thead>\n",
              "    <tr style=\"text-align: right;\">\n",
              "      <th></th>\n",
              "      <th>Name</th>\n",
              "      <th>Description</th>\n",
              "    </tr>\n",
              "  </thead>\n",
              "  <tbody>\n",
              "    <tr>\n",
              "      <th>0</th>\n",
              "      <td>annual_inc</td>\n",
              "      <td>The self-reported annual income provided by th...</td>\n",
              "    </tr>\n",
              "    <tr>\n",
              "      <th>1</th>\n",
              "      <td>dti</td>\n",
              "      <td>A ratio calculated using the borrower’s total ...</td>\n",
              "    </tr>\n",
              "    <tr>\n",
              "      <th>2</th>\n",
              "      <td>emp_length</td>\n",
              "      <td>Employment length in years. Possible values ar...</td>\n",
              "    </tr>\n",
              "    <tr>\n",
              "      <th>3</th>\n",
              "      <td>funded_amnt</td>\n",
              "      <td>The total amount committed to that loan at tha...</td>\n",
              "    </tr>\n",
              "    <tr>\n",
              "      <th>4</th>\n",
              "      <td>funded_amnt_inv</td>\n",
              "      <td>The total amount committed by investors for th...</td>\n",
              "    </tr>\n",
              "    <tr>\n",
              "      <th>5</th>\n",
              "      <td>grade</td>\n",
              "      <td>LC assigned loan grade</td>\n",
              "    </tr>\n",
              "    <tr>\n",
              "      <th>6</th>\n",
              "      <td>home_ownership</td>\n",
              "      <td>The home ownership status provided by the borr...</td>\n",
              "    </tr>\n",
              "    <tr>\n",
              "      <th>7</th>\n",
              "      <td>installment</td>\n",
              "      <td>The monthly payment owed by the borrower if th...</td>\n",
              "    </tr>\n",
              "    <tr>\n",
              "      <th>8</th>\n",
              "      <td>int_rate</td>\n",
              "      <td>Interest Rate on the loan</td>\n",
              "    </tr>\n",
              "    <tr>\n",
              "      <th>9</th>\n",
              "      <td>issue_d</td>\n",
              "      <td>The month which the loan was funded</td>\n",
              "    </tr>\n",
              "    <tr>\n",
              "      <th>10</th>\n",
              "      <td>loan_amnt</td>\n",
              "      <td>The listed amount of the loan applied for by t...</td>\n",
              "    </tr>\n",
              "    <tr>\n",
              "      <th>11</th>\n",
              "      <td>loan_status</td>\n",
              "      <td>Current status of the loan</td>\n",
              "    </tr>\n",
              "    <tr>\n",
              "      <th>12</th>\n",
              "      <td>pub_rec_bankruptcies</td>\n",
              "      <td>Number of public record bankruptcies</td>\n",
              "    </tr>\n",
              "    <tr>\n",
              "      <th>13</th>\n",
              "      <td>purpose</td>\n",
              "      <td>A category provided by the borrower for the lo...</td>\n",
              "    </tr>\n",
              "    <tr>\n",
              "      <th>14</th>\n",
              "      <td>sub_grade</td>\n",
              "      <td>LC assigned loan subgrade</td>\n",
              "    </tr>\n",
              "    <tr>\n",
              "      <th>15</th>\n",
              "      <td>term</td>\n",
              "      <td>The number of payments on the loan. Values are...</td>\n",
              "    </tr>\n",
              "    <tr>\n",
              "      <th>16</th>\n",
              "      <td>verification_status</td>\n",
              "      <td>Indicates if income was verified by LC, not ve...</td>\n",
              "    </tr>\n",
              "  </tbody>\n",
              "</table>\n",
              "</div>\n",
              "      <button class=\"colab-df-convert\" onclick=\"convertToInteractive('df-bfca83f5-f3a3-4baf-8a66-a5b384217d03')\"\n",
              "              title=\"Convert this dataframe to an interactive table.\"\n",
              "              style=\"display:none;\">\n",
              "        \n",
              "  <svg xmlns=\"http://www.w3.org/2000/svg\" height=\"24px\"viewBox=\"0 0 24 24\"\n",
              "       width=\"24px\">\n",
              "    <path d=\"M0 0h24v24H0V0z\" fill=\"none\"/>\n",
              "    <path d=\"M18.56 5.44l.94 2.06.94-2.06 2.06-.94-2.06-.94-.94-2.06-.94 2.06-2.06.94zm-11 1L8.5 8.5l.94-2.06 2.06-.94-2.06-.94L8.5 2.5l-.94 2.06-2.06.94zm10 10l.94 2.06.94-2.06 2.06-.94-2.06-.94-.94-2.06-.94 2.06-2.06.94z\"/><path d=\"M17.41 7.96l-1.37-1.37c-.4-.4-.92-.59-1.43-.59-.52 0-1.04.2-1.43.59L10.3 9.45l-7.72 7.72c-.78.78-.78 2.05 0 2.83L4 21.41c.39.39.9.59 1.41.59.51 0 1.02-.2 1.41-.59l7.78-7.78 2.81-2.81c.8-.78.8-2.07 0-2.86zM5.41 20L4 18.59l7.72-7.72 1.47 1.35L5.41 20z\"/>\n",
              "  </svg>\n",
              "      </button>\n",
              "      \n",
              "  <style>\n",
              "    .colab-df-container {\n",
              "      display:flex;\n",
              "      flex-wrap:wrap;\n",
              "      gap: 12px;\n",
              "    }\n",
              "\n",
              "    .colab-df-convert {\n",
              "      background-color: #E8F0FE;\n",
              "      border: none;\n",
              "      border-radius: 50%;\n",
              "      cursor: pointer;\n",
              "      display: none;\n",
              "      fill: #1967D2;\n",
              "      height: 32px;\n",
              "      padding: 0 0 0 0;\n",
              "      width: 32px;\n",
              "    }\n",
              "\n",
              "    .colab-df-convert:hover {\n",
              "      background-color: #E2EBFA;\n",
              "      box-shadow: 0px 1px 2px rgba(60, 64, 67, 0.3), 0px 1px 3px 1px rgba(60, 64, 67, 0.15);\n",
              "      fill: #174EA6;\n",
              "    }\n",
              "\n",
              "    [theme=dark] .colab-df-convert {\n",
              "      background-color: #3B4455;\n",
              "      fill: #D2E3FC;\n",
              "    }\n",
              "\n",
              "    [theme=dark] .colab-df-convert:hover {\n",
              "      background-color: #434B5C;\n",
              "      box-shadow: 0px 1px 3px 1px rgba(0, 0, 0, 0.15);\n",
              "      filter: drop-shadow(0px 1px 2px rgba(0, 0, 0, 0.3));\n",
              "      fill: #FFFFFF;\n",
              "    }\n",
              "  </style>\n",
              "\n",
              "      <script>\n",
              "        const buttonEl =\n",
              "          document.querySelector('#df-bfca83f5-f3a3-4baf-8a66-a5b384217d03 button.colab-df-convert');\n",
              "        buttonEl.style.display =\n",
              "          google.colab.kernel.accessAllowed ? 'block' : 'none';\n",
              "\n",
              "        async function convertToInteractive(key) {\n",
              "          const element = document.querySelector('#df-bfca83f5-f3a3-4baf-8a66-a5b384217d03');\n",
              "          const dataTable =\n",
              "            await google.colab.kernel.invokeFunction('convertToInteractive',\n",
              "                                                     [key], {});\n",
              "          if (!dataTable) return;\n",
              "\n",
              "          const docLinkHtml = 'Like what you see? Visit the ' +\n",
              "            '<a target=\"_blank\" href=https://colab.research.google.com/notebooks/data_table.ipynb>data table notebook</a>'\n",
              "            + ' to learn more about interactive tables.';\n",
              "          element.innerHTML = '';\n",
              "          dataTable['output_type'] = 'display_data';\n",
              "          await google.colab.output.renderOutput(dataTable, element);\n",
              "          const docLink = document.createElement('div');\n",
              "          docLink.innerHTML = docLinkHtml;\n",
              "          element.appendChild(docLink);\n",
              "        }\n",
              "      </script>\n",
              "    </div>\n",
              "  </div>\n",
              "  "
            ]
          },
          "metadata": {},
          "execution_count": 48
        }
      ]
    },
    {
      "cell_type": "code",
      "source": [
        "df.shape"
      ],
      "metadata": {
        "colab": {
          "base_uri": "https://localhost:8080/"
        },
        "id": "Wn-nA3Aoo17c",
        "outputId": "49b278d4-e39f-4eb7-c586-405617fa32c2"
      },
      "execution_count": 49,
      "outputs": [
        {
          "output_type": "execute_result",
          "data": {
            "text/plain": [
              "(36845, 17)"
            ]
          },
          "metadata": {},
          "execution_count": 49
        }
      ]
    },
    {
      "cell_type": "markdown",
      "source": [
        "### Univariate Analysis "
      ],
      "metadata": {
        "id": "Qu9AeXOujYLN"
      }
    },
    {
      "cell_type": "markdown",
      "source": [
        "#### Plots for categorical variables"
      ],
      "metadata": {
        "id": "JCzGzckyrufE"
      }
    },
    {
      "cell_type": "code",
      "source": [
        "count = 0\n",
        "\n",
        "for col in categorical_columns:\n",
        "    count += 1\n",
        "    col_name = ' '.join(col.split('_')).title()\n",
        "\n",
        "    plt.figure(figsize=(12,5))\n",
        "    sns.countplot(x=col, data=df)\n",
        "\n",
        "    plt.title(f\"{count}. Count Plot for {col_name}\")\n",
        "    plt.xticks(rotation=45)\n",
        "    plt.xlabel(col_name)\n",
        "    plt.ylabel('Count')\n",
        "\n",
        "    plt.show()"
      ],
      "metadata": {
        "colab": {
          "base_uri": "https://localhost:8080/",
          "height": 1000
        },
        "id": "ogDFkx8Jr8XC",
        "outputId": "f5827dd9-64f6-46e1-9dff-7749c3acefb3"
      },
      "execution_count": 50,
      "outputs": [
        {
          "output_type": "display_data",
          "data": {
            "text/plain": [
              "<Figure size 864x360 with 1 Axes>"
            ],
            "image/png": "[encoded data removed]"
          },
          "metadata": {
            "needs_background": "light"
          }
        },
        {
          "output_type": "display_data",
          "data": {
            "text/plain": [
              "<Figure size 864x360 with 1 Axes>"
            ],
            "image/png": "[encoded data removed]"
          },
          "metadata": {
            "needs_background": "light"
          }
        },
        {
          "output_type": "display_data",
          "data": {
            "text/plain": [
              "<Figure size 864x360 with 1 Axes>"
            ],
            "image/png": "[encoded data removed]"
          },
          "metadata": {
            "needs_background": "light"
          }
        },
        {
          "output_type": "display_data",
          "data": {
            "text/plain": [
              "<Figure size 864x360 with 1 Axes>"
            ],
            "image/png": "[encoded data removed]"
          },
          "metadata": {
            "needs_background": "light"
          }
        },
        {
          "output_type": "display_data",
          "data": {
            "text/plain": [
              "<Figure size 864x360 with 1 Axes>"
            ],
            "image/png": "[encoded data removed]"
          },
          "metadata": {
            "needs_background": "light"
          }
        },
        {
          "output_type": "display_data",
          "data": {
            "text/plain": [
              "<Figure size 864x360 with 1 Axes>"
            ],
            "image/png": "[encoded data removed]"
          },
          "metadata": {
            "needs_background": "light"
          }
        },
        {
          "output_type": "display_data",
          "data": {
            "text/plain": [
              "<Figure size 864x360 with 1 Axes>"
            ],
            "image/png": "[encoded data removed]"
          },
          "metadata": {
            "needs_background": "light"
          }
        },
        {
          "output_type": "display_data",
          "data": {
            "text/plain": [
              "<Figure size 864x360 with 1 Axes>"
            ],
            "image/png": "[encoded data removed]"
          },
          "metadata": {
            "needs_background": "light"
          }
        }
      ]
    },
    {
      "cell_type": "markdown",
      "source": [
        "Most of the loans have grade of A and B. Therefore stating most of the loans are high graded loans."
      ],
      "metadata": {
        "id": "2zRnBe6CpBdn"
      }
    },
    {
      "cell_type": "markdown",
      "source": [
        "#### Plots for numerical variables"
      ],
      "metadata": {
        "id": "bzf5UM9bvMA-"
      }
    },
    {
      "cell_type": "code",
      "source": [
        "count = 0\n",
        "\n",
        "for col in numerical_columns:\n",
        "    count += 1\n",
        "    col_name = ' '.join(col.split('_')).title()\n",
        "\n",
        "    sns.boxplot(y=df[col])\n",
        "\n",
        "    plt.title(f\"{count}. Box Plot for {col_name}\")\n",
        "    plt.xlabel('Count')\n",
        "    plt.ylabel(col_name)\n",
        "    \n",
        "    plt.show()"
      ],
      "metadata": {
        "colab": {
          "base_uri": "https://localhost:8080/",
          "height": 1000
        },
        "id": "nlIwUsiEwICj",
        "outputId": "5e3895f3-66fa-4125-8127-a62c9b1e334f"
      },
      "execution_count": 51,
      "outputs": [
        {
          "output_type": "display_data",
          "data": {
            "text/plain": [
              "<Figure size 432x288 with 1 Axes>"
            ],
            "image/png": "[encoded data removed]"
          },
          "metadata": {
            "needs_background": "light"
          }
        },
        {
          "output_type": "display_data",
          "data": {
            "text/plain": [
              "<Figure size 432x288 with 1 Axes>"
            ],
            "image/png": "[encoded data removed]"
          },
          "metadata": {
            "needs_background": "light"
          }
        },
        {
          "output_type": "display_data",
          "data": {
            "text/plain": [
              "<Figure size 432x288 with 1 Axes>"
            ],
            "image/png": "[encoded data removed]"
          },
          "metadata": {
            "needs_background": "light"
          }
        },
        {
          "output_type": "display_data",
          "data": {
            "text/plain": [
              "<Figure size 432x288 with 1 Axes>"
            ],
            "image/png": "[encoded data removed]"
          },
          "metadata": {
            "needs_background": "light"
          }
        },
        {
          "output_type": "display_data",
          "data": {
            "text/plain": [
              "<Figure size 432x288 with 1 Axes>"
            ],
            "image/png": "[encoded data removed]"
          },
          "metadata": {
            "needs_background": "light"
          }
        },
        {
          "output_type": "display_data",
          "data": {
            "text/plain": [
              "<Figure size 432x288 with 1 Axes>"
            ],
            "image/png": "[encoded data removed]"
          },
          "metadata": {
            "needs_background": "light"
          }
        },
        {
          "output_type": "display_data",
          "data": {
            "text/plain": [
              "<Figure size 432x288 with 1 Axes>"
            ],
            "image/png": "[encoded data removed]"
          },
          "metadata": {
            "needs_background": "light"
          }
        }
      ]
    },
    {
      "cell_type": "markdown",
      "source": [
        "### Bivariate Analysis "
      ],
      "metadata": {
        "id": "FJDcUZE9w3h1"
      }
    },
    {
      "cell_type": "markdown",
      "source": [
        "#### Loan Status vs Categorical Variables"
      ],
      "metadata": {
        "id": "R09KVUEqxiX8"
      }
    },
    {
      "cell_type": "code",
      "source": [
        "count = 0\n",
        "\n",
        "for col in categorical_columns:\n",
        "    count += 1\n",
        "    col_name = ' '.join(col.split('_')).title()\n",
        "    \n",
        "    table = pd.crosstab(df[col], df['loan_status'])\n",
        "    table.div(table.sum(1).astype(float), axis=0).plot(kind='bar', stacked=True, figsize=(12,5))\n",
        "\n",
        "    plt.title(f\"{count}. Stack Bar Plot for Loan Status v/s {col_name}\")\n",
        "    plt.legend(title='Loan Status')\n",
        "    plt.xticks(rotation=45)\n",
        "    plt.xlabel(col_name)\n",
        "    plt.ylabel('Ratio')\n",
        "\n",
        "    plt.show()"
      ],
      "metadata": {
        "colab": {
          "base_uri": "https://localhost:8080/",
          "height": 1000
        },
        "id": "ohZjWXIHyHqn",
        "outputId": "0f80be2c-24c5-4928-8196-946d1a3d25f3"
      },
      "execution_count": 52,
      "outputs": [
        {
          "output_type": "display_data",
          "data": {
            "text/plain": [
              "<Figure size 864x360 with 1 Axes>"
            ],
            "image/png": "[encoded data removed]"
          },
          "metadata": {
            "needs_background": "light"
          }
        },
        {
          "output_type": "display_data",
          "data": {
            "text/plain": [
              "<Figure size 864x360 with 1 Axes>"
            ],
            "image/png": "[encoded data removed]"
          },
          "metadata": {
            "needs_background": "light"
          }
        },
        {
          "output_type": "display_data",
          "data": {
            "text/plain": [
              "<Figure size 864x360 with 1 Axes>"
            ],
            "image/png": "[encoded data removed]"
          },
          "metadata": {
            "needs_background": "light"
          }
        },
        {
          "output_type": "display_data",
          "data": {
            "text/plain": [
              "<Figure size 864x360 with 1 Axes>"
            ],
            "image/png": "[encoded data removed]"
          },
          "metadata": {
            "needs_background": "light"
          }
        },
        {
          "output_type": "display_data",
          "data": {
            "text/plain": [
              "<Figure size 864x360 with 1 Axes>"
            ],
            "image/png": "[encoded data removed]"
          },
          "metadata": {
            "needs_background": "light"
          }
        },
        {
          "output_type": "display_data",
          "data": {
            "text/plain": [
              "<Figure size 864x360 with 1 Axes>"
            ],
            "image/png": "[encoded data removed]"
          },
          "metadata": {
            "needs_background": "light"
          }
        },
        {
          "output_type": "display_data",
          "data": {
            "text/plain": [
              "<Figure size 864x360 with 1 Axes>"
            ],
            "image/png": "[encoded data removed]"
          },
          "metadata": {
            "needs_background": "light"
          }
        },
        {
          "output_type": "display_data",
          "data": {
            "text/plain": [
              "<Figure size 864x360 with 1 Axes>"
            ],
            "image/png": "[encoded data removed]"
          },
          "metadata": {
            "needs_background": "light"
          }
        }
      ]
    },
    {
      "cell_type": "markdown",
      "source": [
        "#### Loan Status vs Numerical Variables"
      ],
      "metadata": {
        "id": "REKhn8qY3Tmp"
      }
    },
    {
      "cell_type": "code",
      "source": [
        "count = 0\n",
        "\n",
        "for col in numerical_columns:\n",
        "    count += 1\n",
        "    col_name = ' '.join(col.split('_')).title()\n",
        "    \n",
        "    sns.boxplot(x='loan_status', y=col, data=df)\n",
        "\n",
        "    plt.title(f\"{count}. Box Plot for Loan Status v/s {col_name}\")\n",
        "    plt.xlabel('Loan Status')\n",
        "    plt.ylabel(col_name)\n",
        "\n",
        "    plt.show()"
      ],
      "metadata": {
        "colab": {
          "base_uri": "https://localhost:8080/",
          "height": 1000
        },
        "id": "QhkPZ0GA3U_b",
        "outputId": "addd6dcd-5575-40f3-8694-512442858b75"
      },
      "execution_count": 53,
      "outputs": [
        {
          "output_type": "display_data",
          "data": {
            "text/plain": [
              "<Figure size 432x288 with 1 Axes>"
            ],
            "image/png": "[encoded data removed]"
          },
          "metadata": {
            "needs_background": "light"
          }
        },
        {
          "output_type": "display_data",
          "data": {
            "text/plain": [
              "<Figure size 432x288 with 1 Axes>"
            ],
            "image/png": "[encoded data removed]"
          },
          "metadata": {
            "needs_background": "light"
          }
        },
        {
          "output_type": "display_data",
          "data": {
            "text/plain": [
              "<Figure size 432x288 with 1 Axes>"
            ],
            "image/png": "[encoded data removed]"
          },
          "metadata": {
            "needs_background": "light"
          }
        },
        {
          "output_type": "display_data",
          "data": {
            "text/plain": [
              "<Figure size 432x288 with 1 Axes>"
            ],
            "image/png": "[encoded data removed]"
          },
          "metadata": {
            "needs_background": "light"
          }
        },
        {
          "output_type": "display_data",
          "data": {
            "text/plain": [
              "<Figure size 432x288 with 1 Axes>"
            ],
            "image/png": "[encoded data removed]"
          },
          "metadata": {
            "needs_background": "light"
          }
        },
        {
          "output_type": "display_data",
          "data": {
            "text/plain": [
              "<Figure size 432x288 with 1 Axes>"
            ],
            "image/png": "[encoded data removed]"
          },
          "metadata": {
            "needs_background": "light"
          }
        },
        {
          "output_type": "display_data",
          "data": {
            "text/plain": [
              "<Figure size 432x288 with 1 Axes>"
            ],
            "image/png": "[encoded data removed]"
          },
          "metadata": {
            "needs_background": "light"
          }
        }
      ]
    },
    {
      "cell_type": "markdown",
      "source": [
        "### Multi-variate Analysis "
      ],
      "metadata": {
        "id": "-fvOaVAB3OCY"
      }
    },
    {
      "cell_type": "markdown",
      "source": [
        "#### Heat Map for Numerical Variables"
      ],
      "metadata": {
        "id": "S_vmQP1o1cF3"
      }
    },
    {
      "cell_type": "code",
      "source": [
        "numerical_columns_labels = list(map(lambda x: ' '.join(x.split('_')).title(), numerical_columns))\n",
        "\n",
        "plt.figure(figsize=(10,10))\n",
        "sns.heatmap(df[numerical_columns].corr(), cmap='PuBu', annot=True, xticklabels=numerical_columns_labels, yticklabels=numerical_columns_labels)\n",
        "\n",
        "plt.title(\"Numerical Variables Heat Map\")\n",
        "plt.yticks(rotation=45)\n",
        "plt.xticks(rotation=45)\n",
        "\n",
        "plt.show()"
      ],
      "metadata": {
        "colab": {
          "base_uri": "https://localhost:8080/",
          "height": 665
        },
        "id": "tai5Z3940qHc",
        "outputId": "cf19cab2-5c5f-48c1-cfcb-643bb3dd6df0"
      },
      "execution_count": 54,
      "outputs": [
        {
          "output_type": "display_data",
          "data": {
            "text/plain": [
              "<Figure size 720x720 with 2 Axes>"
            ],
            "image/png": "[encoded data removed]"
          },
          "metadata": {
            "needs_background": "light"
          }
        }
      ]
    },
    {
      "cell_type": "markdown",
      "metadata": {
        "id": "fHOBytsT_x8q"
      },
      "source": [
        "## Step 4. Draw Conclusion"
      ]
    },
    {
      "cell_type": "markdown",
      "metadata": {
        "id": "RBrjFjpY_x8q"
      },
      "source": [
        "After completing our analysis we have observed that,\n",
        "\n",
        "| Category | Least likely to default | Most likely to default | \n",
        "| --- | --- | --- |\n",
        "| xxx | xxx (x%) | xxx (x%) | \n",
        "| xxx | xxx (x%) | xxx (x%) | \n",
        "\n",
        "*Note: the table only shows the most and the least likely to default from the particular category*"
      ]
    }
  ],
  "metadata": {
    "kernelspec": {
      "display_name": "Python 3",
      "language": "python",
      "name": "python3"
    },
    "language_info": {
      "codemirror_mode": {
        "name": "ipython",
        "version": 3
      },
      "file_extension": ".py",
      "mimetype": "text/x-python",
      "name": "python",
      "nbconvert_exporter": "python",
      "pygments_lexer": "ipython3",
      "version": "3.9.13"
    },
    "orig_nbformat": 4,
    "vscode": {
      "interpreter": {
        "hash": "7812ea015bdcee6f23a998adcdd2ef97c151c0c241b7b7070987d9313e41299d"
      }
    },
    "colab": {
      "provenance": [],
      "toc_visible": true
    }
  },
  "nbformat": 4,
  "nbformat_minor": 0
}